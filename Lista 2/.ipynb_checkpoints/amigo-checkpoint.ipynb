{
 "cells": [
  {
   "cell_type": "code",
   "execution_count": 4,
   "metadata": {},
   "outputs": [],
   "source": [
    "import numpy as np\n",
    "import pandas as pd\n",
    "import matplotlib.pyplot as plt\n",
    "import matplotlib.mlab as mlab\n",
    "import seaborn as sns\n",
    "\n",
    "#plt.style.use('seaborn')\n",
    "sns.set(style=\"whitegrid\")"
   ]
  },
  {
   "cell_type": "markdown",
   "metadata": {},
   "source": [
    "### Questão 1\n",
    "\n",
    "##### 1)\n",
    "Temos que a p.d.f da distribuição normal $\\mathcal{N}(\\mu, \\sigma^2)$ é dada por:\n",
    "\n",
    "$$f(x | \\mu, \\sigma^2) = \\frac{1}{\\sqrt{2\\pi\\sigma^2}} exp^{-\\frac{(x - \\mu)^2}{2\\sigma^2}}$$\n",
    "\n",
    "Para um dataset qualquer $\\mathcal{D} = \\{x_1, x_2,...,x_N\\}$, a função <i>likelihood</i> é dada por:\n",
    "\n",
    "$$\\mathcal{L}(\\theta, \\mathcal{D}) = p(\\mathcal{D} | \\theta) = \\prod_{i=1}^N f(x_i | \\mu, \\sigma^2)$$\n",
    "\n",
    "Aqui, como nossas amostras são valores em $\\mathbb{R}$, o vetor de parâmetro $\\theta$ possui apenas dois parâmetros: a média da normal $\\mu$ e a variância $\\sigma^2$."
   ]
  },
  {
   "cell_type": "markdown",
   "metadata": {},
   "source": [
    "##### 2)\n",
    "Para obter o estimador de máxima verossimilhança neste caso, podemos, primeiro, utilizar a função de <i>log-likelihood</i>, e derivá-la com relação a $\\mu$ e $\\sigma^2$. Ao igualar cada derivada parcial a 0, podemos obter os valores de $\\hat{\\mu}_{MLE}$ e $\\hat{\\sigma}^2_{MLE}$.\n",
    "\n",
    "$$log \\mathcal{L}(\\theta, \\mathcal{D}) = \\sum_{i=1}^N \\Big( -\\frac{(x_i-\\mu)^2}{2\\sigma^2} - log \\sigma - \\frac{1}{2}log2\\pi \\Big) $$"
   ]
  },
  {
   "cell_type": "markdown",
   "metadata": {},
   "source": [
    "$$\\frac{\\delta \\mathcal{L}}{\\delta \\mu} = \\sum_{i=1}^N \\frac{x_i - \\mu}{\\sigma^2} = 0$$\n",
    "$$\\sum_{i=1}^N x_i - N\\hat{\\mu}_{MLE} = 0$$\n",
    "$$\\hat{\\mu}_{MLE} = \\frac{1}{N} \\sum_{i=1}^N x_i = \\overline{x}$$"
   ]
  },
  {
   "cell_type": "markdown",
   "metadata": {},
   "source": [
    "Ou seja, o estimador de máxima verossimilhança para a média da normal $\\hat{\\mu}_{MLE}$ é igual à média amostral. Já para $\\hat{\\sigma}^2_{MLE}$, temos:\n",
    "\n",
    "$$\\frac{\\delta \\mathcal{L}}{\\delta \\sigma} = -\\frac{N}{\\sigma} + \\frac{1}{\\sigma^3}\\sum_{i=1}^N (x_i - \\mu)^2 = 0$$\n",
    "$$\\frac{1}{\\hat{\\sigma}^2_{MLE}}\\sum_{i=1}^N (x_i - \\mu)^2 = N$$\n",
    "$$\\hat{\\sigma}^2_{MLE} = \\frac{1}{N}\\sum_{i=1}^N (x_i - \\mu)^2$$"
   ]
  },
  {
   "cell_type": "markdown",
   "metadata": {},
   "source": [
    "Em outras palavras, o estimador de máxima verossimilhança para a variância da normal $\\hat{\\sigma}^2_{MLE}$ é igual à variância empírica. Vale ressaltar, no entanto, que este é um estimador enviesado para a variância, embora fácil de corrigir, multiplicando por um fator $\\frac{N}{N-1}$."
   ]
  },
  {
   "cell_type": "markdown",
   "metadata": {},
   "source": [
    "### Questão 2"
   ]
  },
  {
   "cell_type": "code",
   "execution_count": 5,
   "metadata": {},
   "outputs": [],
   "source": [
    "def mle_normal(data):\n",
    "    mean_mle = data.mean()\n",
    "    var_mle = ((data - mean_mle)**2).mean()\n",
    "    return mean_mle, var_mle\n",
    "\n",
    "def mle_uniform(data):\n",
    "    min_mle = data.min()\n",
    "    max_mle = data.max()\n",
    "    return min_mle, max_mle\n",
    "\n",
    "def normal_likelihood(data, mean, var):\n",
    "    likelihood = np.prod(1/np.sqrt(2*np.pi*var)*np.exp(-(data - mean)**2/(2*var)))\n",
    "    return likelihood\n",
    "\n",
    "def uniform_likelihood(data, min_value, max_value):\n",
    "    indicator = np.all(np.logical_and(data >= min_value, data <= max_value))\n",
    "    n_samples = len(data)\n",
    "    likelihood = (1/(max_value - min_value))**n_samples\n",
    "    return likelihood"
   ]
  },
  {
   "cell_type": "code",
   "execution_count": 6,
   "metadata": {},
   "outputs": [
    {
     "data": {
      "image/png": "[encoded data removed]",
      "text/plain": [
       "<Figure size 1080x288 with 2 Axes>"
      ]
     },
     "metadata": {},
     "output_type": "display_data"
    },
    {
     "name": "stdout",
     "output_type": "stream",
     "text": [
      "Considering D1 is generated by a normal distribution, we obtain:\n",
      "MLE mean: 11.779120631770615\n",
      "MLE variance: 21.697698485025686\n",
      "Considering D1 is generated by a uniform distribution, we obtain:\n",
      "MLE minimum: 1.1372081248391\n",
      "MLE maximum: 22.7647296733477\n",
      "\n",
      "Considering D2 is generated by a normal distribution, we obtain:\n",
      "MLE mean: 11.02075735317513\n",
      "MLE variance: 27.763774884064702\n",
      "Considering D2 is generated by a uniform distribution, we obtain:\n",
      "MLE minimum: 1.05171671230868\n",
      "MLE maximum: 19.9164598600995\n",
      "\n",
      "Likelihood of D1 being generated by a normal distribution: 3.594173131529024e-129\n",
      "Likelihood of D1 being generated by a uniform distribution: 3.1573640536254534e-134\n",
      "\n",
      "Likelihood of D2 being generated by a normal distribution: 7.802592571730125e-128\n",
      "Likelihood of D2 being generated by a uniform distribution: 6.503764940879019e-122\n"
     ]
    }
   ],
   "source": [
    "#Load datasets\n",
    "file1 = open('./data-sets/D2/data-l2-p-1a.txt', 'r')\n",
    "file2 = open('./data-sets/D2/data-l2-p-1b.txt', 'r')\n",
    "\n",
    "samples1 = file1.readlines()\n",
    "samples2 = file2.readlines()\n",
    "samples1 = np.array([float(val[1:-2]) for val in samples1[10:]])\n",
    "samples2 = np.array([float(val[1:-2]) for val in samples2[10:]])\n",
    "\n",
    "plt.figure(figsize=(15,4))\n",
    "plt.subplot(1,2,1)\n",
    "plt.hist(samples1)\n",
    "plt.title(\"Sample D1\")\n",
    "plt.subplot(1,2,2)\n",
    "plt.hist(samples2)\n",
    "plt.title(\"Sample D2\")\n",
    "plt.show()\n",
    "\n",
    "#Calculate D1 MLE for Normal and Uniform distributions\n",
    "mle_normal_mean_D1, mle_normal_var_D1 = mle_normal(samples1)\n",
    "mle_uniform_min_D1, mle_uniform_max_D1 = mle_uniform(samples1)\n",
    "\n",
    "print(\"Considering D1 is generated by a normal distribution, we obtain:\\n\"\n",
    "      \"MLE mean: {}\\n\"\n",
    "      \"MLE variance: {}\".\n",
    "     format(mle_normal_mean_D1, mle_normal_var_D1)\n",
    "     )\n",
    "print(\"Considering D1 is generated by a uniform distribution, we obtain:\\n\"\n",
    "      \"MLE minimum: {}\\n\"\n",
    "      \"MLE maximum: {}\".\n",
    "     format(mle_uniform_min_D1, mle_uniform_max_D1)\n",
    "     )\n",
    "\n",
    "print()\n",
    "\n",
    "#Calculate D2 MLE for Normal and Uniform distributions\n",
    "mle_normal_mean_D2, mle_normal_var_D2 = mle_normal(samples2)\n",
    "mle_uniform_min_D2, mle_uniform_max_D2 = mle_uniform(samples2)\n",
    "\n",
    "print(\"Considering D2 is generated by a normal distribution, we obtain:\\n\"\n",
    "      \"MLE mean: {}\\n\"\n",
    "      \"MLE variance: {}\".\n",
    "     format(mle_normal_mean_D2, mle_normal_var_D2)\n",
    "     )\n",
    "print(\"Considering D2 is generated by a uniform distribution, we obtain:\\n\"\n",
    "      \"MLE minimum: {}\\n\"\n",
    "      \"MLE maximum: {}\".\n",
    "     format(mle_uniform_min_D2, mle_uniform_max_D2)\n",
    "     )\n",
    "\n",
    "print()\n",
    "\n",
    "#Calculate D1 likelihood for the calculated MLE\n",
    "D1_normal_likelihood = normal_likelihood(samples1, mle_normal_mean_D1, mle_normal_var_D1)\n",
    "D1_uniform_likelihood = uniform_likelihood(samples1, mle_uniform_min_D1, mle_uniform_max_D1)\n",
    "\n",
    "#Calculate D2 likelihood for the calculated MLE\n",
    "D2_normal_likelihood = normal_likelihood(samples2, mle_normal_mean_D2, mle_normal_var_D2)\n",
    "D2_uniform_likelihood = uniform_likelihood(samples2, mle_uniform_min_D2, mle_uniform_max_D2)\n",
    "\n",
    "print(\"Likelihood of D1 being generated by a normal distribution: {}\".format(D1_normal_likelihood))\n",
    "print(\"Likelihood of D1 being generated by a uniform distribution: {}\".format(D1_uniform_likelihood))\n",
    "print()\n",
    "print(\"Likelihood of D2 being generated by a normal distribution: {}\".format(D2_normal_likelihood))\n",
    "print(\"Likelihood of D2 being generated by a uniform distribution: {}\".format(D2_uniform_likelihood))"
   ]
  },
  {
   "cell_type": "markdown",
   "metadata": {},
   "source": [
    "Logo, concluímos que é mais provável que D1 tenha sido gerado por uma distribuição normal, enquanto D2 é gerado por uma distribuição uniforme. Uma maneira de quantificar isso é calculando o <i>likelihood ratio</i> entre as duas distribuições para cada dataset. Se considerarmos que o <i>prior</i> de cada distribuição é igual, isso equivale a calcular a razão entre o <i>posterior</i> de cada uma delas:\n",
    "\n",
    "$$\\frac{P(h_{normal} | \\mathcal{D})}{P(h_{uniform} | \\mathcal{D})} = \\frac{P(\\mathcal{D}|h_{normal})P(h_{normal})}{P(\\mathcal{D})}.\\frac{P(\\mathcal{D})}{P(\\mathcal{D}|h_{uniform})P(h_{uniform})}$$\n",
    "\n",
    "Mas como consideramos que $P(h_{uniform}) = P(h_{normal}) = 0.5$, temos:\n",
    "\n",
    "$$\\frac{P(h_{normal} | \\mathcal{D})}{P(h_{uniform} | \\mathcal{D})} = \\frac{P(\\mathcal{D}|h_{normal})}{P(\\mathcal{D}|h_{uniform})}$$\n",
    "\n",
    "Em termos práticos, para $\\mathcal{D1}$ e $\\mathcal{D2}$ temos:"
   ]
  },
  {
   "cell_type": "code",
   "execution_count": 7,
   "metadata": {},
   "outputs": [
    {
     "name": "stdout",
     "output_type": "stream",
     "text": [
      "D1 likelihood ratio: 113834.61236920091\n",
      "D2 likelihood ratio: 1.1997039626520639e-06\n"
     ]
    }
   ],
   "source": [
    "print(\"D1 likelihood ratio: {}\".format(D1_normal_likelihood/D1_uniform_likelihood))\n",
    "print(\"D2 likelihood ratio: {}\".format(D2_normal_likelihood/D2_uniform_likelihood))"
   ]
  },
  {
   "cell_type": "markdown",
   "metadata": {},
   "source": [
    "Ou seja, é 113834 vezes mais provável que D1 tenha vindo de uma distribuição normal, enquanto D2 é mais provável de ter vindo de uma uniforme."
   ]
  },
  {
   "cell_type": "markdown",
   "metadata": {},
   "source": [
    "### Questão 3"
   ]
  },
  {
   "cell_type": "code",
   "execution_count": 8,
   "metadata": {},
   "outputs": [
    {
     "data": {
      "text/html": [
       "<div>\n",
       "<style scoped>\n",
       "    .dataframe tbody tr th:only-of-type {\n",
       "        vertical-align: middle;\n",
       "    }\n",
       "\n",
       "    .dataframe tbody tr th {\n",
       "        vertical-align: top;\n",
       "    }\n",
       "\n",
       "    .dataframe thead th {\n",
       "        text-align: right;\n",
       "    }\n",
       "</style>\n",
       "<table border=\"1\" class=\"dataframe\">\n",
       "  <thead>\n",
       "    <tr style=\"text-align: right;\">\n",
       "      <th></th>\n",
       "      <th>Área do imóvel(sq ft)</th>\n",
       "      <th>Preço de venda($)</th>\n",
       "    </tr>\n",
       "  </thead>\n",
       "  <tbody>\n",
       "    <tr>\n",
       "      <th>0</th>\n",
       "      <td>334</td>\n",
       "      <td>39300</td>\n",
       "    </tr>\n",
       "    <tr>\n",
       "      <th>1</th>\n",
       "      <td>438</td>\n",
       "      <td>60000</td>\n",
       "    </tr>\n",
       "    <tr>\n",
       "      <th>2</th>\n",
       "      <td>520</td>\n",
       "      <td>68500</td>\n",
       "    </tr>\n",
       "    <tr>\n",
       "      <th>3</th>\n",
       "      <td>605</td>\n",
       "      <td>86000</td>\n",
       "    </tr>\n",
       "    <tr>\n",
       "      <th>4</th>\n",
       "      <td>672</td>\n",
       "      <td>113000</td>\n",
       "    </tr>\n",
       "    <tr>\n",
       "      <th>5</th>\n",
       "      <td>767</td>\n",
       "      <td>133000</td>\n",
       "    </tr>\n",
       "  </tbody>\n",
       "</table>\n",
       "</div>"
      ],
      "text/plain": [
       "   Área do imóvel(sq ft)  Preço de venda($)\n",
       "0                    334              39300\n",
       "1                    438              60000\n",
       "2                    520              68500\n",
       "3                    605              86000\n",
       "4                    672             113000\n",
       "5                    767             133000"
      ]
     },
     "execution_count": 8,
     "metadata": {},
     "output_type": "execute_result"
    }
   ],
   "source": [
    "df_train = pd.DataFrame([[334, 39300], [438, 60000], [520, 68500], [605, 86000], [672, 113000] ,[767, 133000]], \n",
    "                       columns=['Área do imóvel(sq ft)', 'Preço de venda($)'])\n",
    "df_test = pd.DataFrame([[848] ,[912]], \n",
    "                       columns=['Área do imóvel(sq ft)'])\n",
    "df_train"
   ]
  },
  {
   "cell_type": "code",
   "execution_count": 9,
   "metadata": {},
   "outputs": [
    {
     "data": {
      "image/png": "[encoded data removed]",
      "text/plain": [
       "<Figure size 432x288 with 1 Axes>"
      ]
     },
     "metadata": {},
     "output_type": "display_data"
    }
   ],
   "source": [
    "#3.1\n",
    "def solve_lin_reg(X, y):\n",
    "    XTX = X.T.dot(X)\n",
    "    XTX_inv = np.linalg.inv(XTX)\n",
    "    XTy = X.T.dot(y)\n",
    "    theta = XTX_inv.dot(XTy)\n",
    "    return theta\n",
    "\n",
    "x_train = np.array(df_train.iloc[:,0])\n",
    "phi1 = np.array([np.ones(6), x_train]).T\n",
    "phi2 = np.array([np.ones(6), x_train, x_train**2, x_train**3, x_train**4]).T\n",
    "y = np.array(df_train.iloc[:,1])\n",
    "\n",
    "theta1 = solve_lin_reg(phi1, y)\n",
    "theta2 = solve_lin_reg(phi2, y)\n",
    "\n",
    "plot_space = np.linspace(300, 900)\n",
    "linspace_M1 = np.array([np.ones(50), plot_space]).T\n",
    "linspace_M2 = np.array([np.ones(50), plot_space, plot_space**2, plot_space**3, plot_space**4]).T\n",
    "m1_y = linspace_M1.dot(theta1)\n",
    "m2_y = linspace_M2.dot(theta2)\n",
    "\n",
    "plt.scatter(df_train.iloc[:,0], df_train.iloc[:,1], c='b')\n",
    "plt.plot(plot_space, m1_y, c='g', label='M1')\n",
    "plt.plot(plot_space, m2_y, c='y', label='M2')\n",
    "plt.legend()\n",
    "plt.show()"
   ]
  },
  {
   "cell_type": "markdown",
   "metadata": {},
   "source": [
    "Já podemos notar pelo gráfico que o modelo M2 está com <i>overfit</i>. Isso irá se refletir no erro quadrático médio do conjunto de teste."
   ]
  },
  {
   "cell_type": "code",
   "execution_count": 10,
   "metadata": {},
   "outputs": [
    {
     "name": "stdout",
     "output_type": "stream",
     "text": [
      "Train MSE for M1: 170317094.86\n",
      "Train MSE for M2: 5461192.84\n",
      "Ratio of MSE M1/M2: 31.18679\n"
     ]
    }
   ],
   "source": [
    "#3.2\n",
    "def mse(y_pred, y_true):\n",
    "    return np.sum((y_true - y_pred)**2)\n",
    "\n",
    "y_pred1 = phi1.dot(theta1)\n",
    "y_pred2 = phi2.dot(theta2)\n",
    "\n",
    "M1_mse = mse(y_pred1, y)\n",
    "M2_mse = mse(y_pred2, y)\n",
    "\n",
    "print(\"Train MSE for M1: {:.2f}\\n\"\n",
    "      \"Train MSE for M2: {:.2f}\\n\"\n",
    "      \"Ratio of MSE M1/M2: {:.5f}\"\n",
    "      .format(M1_mse, M2_mse, M1_mse/M2_mse)\n",
    "     )"
   ]
  },
  {
   "cell_type": "code",
   "execution_count": 11,
   "metadata": {},
   "outputs": [
    {
     "name": "stdout",
     "output_type": "stream",
     "text": [
      "Estimated test y values:\n",
      "M1: [146699.08713826 160594.77746993]\n",
      "M2: [ 91726.30059071 -22823.65801812]\n"
     ]
    }
   ],
   "source": [
    "#3.3\n",
    "x_test = np.array(df_test.iloc[:,0])\n",
    "phi1_test = np.array([np.ones(2), x_test]).T\n",
    "phi2_test = np.array([np.ones(2), x_test, x_test**2, x_test**3, x_test**4]).T\n",
    "y_test_pred1 = phi1_test.dot(theta1)\n",
    "y_test_pred2 = phi2_test.dot(theta2)\n",
    "print(\"Estimated test y values:\\n\"\n",
    "     \"M1: {}\\n\"\n",
    "     \"M2: {}\"\n",
    "     .format(y_test_pred1, y_test_pred2)\n",
    "     )"
   ]
  },
  {
   "cell_type": "code",
   "execution_count": 12,
   "metadata": {},
   "outputs": [
    {
     "name": "stdout",
     "output_type": "stream",
     "text": [
      "Test MSE for M1: 105768777.49\n",
      "Test MSE for M2: 36096164362.86\n",
      "Ratio of MSE M1/M2: 0.00293\n"
     ]
    }
   ],
   "source": [
    "#3.4\n",
    "y_test_true = np.array([155900, 156000])\n",
    "M1_test_mse = mse(y_test_pred1, y_test_true)\n",
    "M2_test_mse = mse(y_test_pred2, y_test_true)\n",
    "\n",
    "print(\"Test MSE for M1: {:.2f}\\n\"\n",
    "      \"Test MSE for M2: {:.2f}\\n\"\n",
    "      \"Ratio of MSE M1/M2: {:.5f}\"\n",
    "      .format(M1_test_mse, M2_test_mse, M1_test_mse/M2_test_mse)\n",
    "     )"
   ]
  },
  {
   "cell_type": "markdown",
   "metadata": {},
   "source": [
    "Para o conjunto de treino, o modelo M2 obteve uma melhor performance, devido ao fato de que a expansão de base utilizada é capaz de capturar mais informações acerca do problema e se adaptar melhor aos dados. No entanto, ao fazer isso, o modelo também corre o risco de fazer <i>overfitting</i>, e não generalizar bem para novos dados. <br>\n",
    "É exatamente isso que podemos observar ao testar os dois modelos no conjunto de teste. O modelo M1, por ser mais simples, generaliza melhor para novos dados, embora seu erro quadrático no conjunto de treino seja maior."
   ]
  },
  {
   "cell_type": "markdown",
   "metadata": {},
   "source": [
    "### Questão 4"
   ]
  },
  {
   "cell_type": "markdown",
   "metadata": {},
   "source": [
    "##### 4.1)\n",
    "\n",
    "Como visto no livro do Murphy, a regressão logística corresponde ao seguinte modelo:\n",
    "\n",
    "$$\n",
    "\\begin{align*}\n",
    "p(y|w;x) & = Ber(y|sigm(w^Tx)) \\\\\n",
    "& = p(y=1|x;w)^{\\mathbb{I}_{\\{y = 1\\}}} . (1-p(y=1|x;w))^{\\mathbb{I}_{\\{y = 0\\}}}\n",
    "\\end{align*}\n",
    "$$\n",
    "\n",
    "Onde o parâmetro $p(y=1)$ é dado pela função sigmóide:\n",
    "\n",
    "$$p(y=1|x;w) = sigm(w^Tx) = \\frac{1}{1 + e^{-w^Tx}}$$\n",
    "\n",
    "Para uma amostra de tamanho N, considerando que as amostras são iid, podemos expressar a função <i>likelihood</i> como:\n",
    "\n",
    "$$\\mathcal{L}(w) = \\prod_{i=1}^N p(y=1|x_i;w)^{\\mathbb{I}_{\\{y_i = 1\\}}} . (1-p(y=1|x_i;w))^{\\mathbb{I}_{\\{y_i = 0\\}}}$$"
   ]
  },
  {
   "cell_type": "markdown",
   "metadata": {},
   "source": [
    "Podemos então tirar o <i>log-likelihood</i>, o que nos dará:\n",
    "\n",
    "$$\n",
    "\\begin{align}\n",
    "log \\mathcal{L}(w) & = \\sum_{i=1}^N y_i log\\big( p(y=1|x_i;w)\\big) + (1-y_i)log\\big( 1-p(y=1|x_i;w) \\big) \\\\\n",
    "& = \\sum_{i=1}^N y_i log\\big( p(y=1|x_i;w)\\big) + (1-y_i)log\\big( 1-p(y=1|x_i;w) \\big) \\\\\n",
    "& = \\sum_{i=1}^N y_i log\\big( p(y=1|x_i;w)\\big) + log\\big( 1-p(y=1|x_i;w) \\big) - y_i log\\big( 1-p(y=1|x_i;w) \\big) \\\\\n",
    "& = \\sum_{i=1}^N log\\big( 1-p(y=1|x_i;w) \\big) + y_i log \\Big( \\frac{ p(y=1|x_i;w)}{1-p(y=1|x_i;w)} \\Big) \\\\\n",
    "\\end{align}\n",
    "$$\n",
    "\n",
    "Onde, substituindo a função sigmóide nos lugares correspondentes, obteremos:\n",
    "\n",
    "$$log \\mathcal{L}(w) = \\sum_{i=1}^N -log\\big( 1+e^{w^Tx_i} \\big) + y_i w^Tx_i$$"
   ]
  },
  {
   "cell_type": "markdown",
   "metadata": {},
   "source": [
    "##### 4.2)\n",
    "\n",
    "É possível calcular o gradiente $g$ da função de <i>log-likelihood</i>:\n",
    "\n",
    "$$g(w) = \\sum_{i=1}^N (y_i - p(y=1|x_i;w))x_{i}$$\n",
    "\n",
    "No entanto, não é possível encontrar uma solução de forma fechada para esta equação ao igualá-la a 0. Portanto, a única maneira de encontrar os parâmetros para o problema é utilizando algum método de aproximação (por exemplo, método do gradiente)."
   ]
  },
  {
   "cell_type": "code",
   "execution_count": 13,
   "metadata": {},
   "outputs": [],
   "source": [
    "#4.3\n",
    "def sigmoid(z):\n",
    "    return 1 / (1 + np.exp(-z))\n",
    "\n",
    "def gradient(X, y, w):\n",
    "    z = np.dot(X, w)\n",
    "    return np.dot(X.T, sigmoid(z) - y)/y.shape[0]\n",
    "\n",
    "def loss_logreg(X, y, w):\n",
    "    sumreg = 0.\n",
    "    n = len(y)\n",
    "    for i in range(n):\n",
    "        zi = np.dot(X[i], w)\n",
    "        sumreg += y[i] - sigmoid(zi)\n",
    "    return sumreg/n\n",
    "\n",
    "def gradient_descent(X, y, w0, n_iter=5, learning_rate=0.01, verbose=0):\n",
    "    wk = w0.copy()\n",
    "    if verbose:\n",
    "        print(loss_logreg(X,y,wk))\n",
    "    for i in range(n_iter):\n",
    "        wk -= learning_rate*gradient(X, y, wk)\n",
    "        if verbose:\n",
    "            print(loss_logreg(X,y,wk))\n",
    "    return wk    \n",
    "\n",
    "def predict_probs(X, w):\n",
    "    return sigmoid(np.dot(X, w))\n",
    "\n",
    "def predict(X, w, threshold=0.5):\n",
    "    return predict_probs(X, w) >= threshold"
   ]
  },
  {
   "cell_type": "code",
   "execution_count": 14,
   "metadata": {},
   "outputs": [
    {
     "data": {
      "text/html": [
       "<div>\n",
       "<style scoped>\n",
       "    .dataframe tbody tr th:only-of-type {\n",
       "        vertical-align: middle;\n",
       "    }\n",
       "\n",
       "    .dataframe tbody tr th {\n",
       "        vertical-align: top;\n",
       "    }\n",
       "\n",
       "    .dataframe thead th {\n",
       "        text-align: right;\n",
       "    }\n",
       "</style>\n",
       "<table border=\"1\" class=\"dataframe\">\n",
       "  <thead>\n",
       "    <tr style=\"text-align: right;\">\n",
       "      <th></th>\n",
       "      <th>Área do imóvel(sq ft)</th>\n",
       "      <th>Preço de venda($)</th>\n",
       "    </tr>\n",
       "  </thead>\n",
       "  <tbody>\n",
       "    <tr>\n",
       "      <th>0</th>\n",
       "      <td>334</td>\n",
       "      <td>0.0</td>\n",
       "    </tr>\n",
       "    <tr>\n",
       "      <th>1</th>\n",
       "      <td>438</td>\n",
       "      <td>0.0</td>\n",
       "    </tr>\n",
       "    <tr>\n",
       "      <th>2</th>\n",
       "      <td>520</td>\n",
       "      <td>0.0</td>\n",
       "    </tr>\n",
       "    <tr>\n",
       "      <th>3</th>\n",
       "      <td>605</td>\n",
       "      <td>1.0</td>\n",
       "    </tr>\n",
       "    <tr>\n",
       "      <th>4</th>\n",
       "      <td>672</td>\n",
       "      <td>1.0</td>\n",
       "    </tr>\n",
       "    <tr>\n",
       "      <th>5</th>\n",
       "      <td>767</td>\n",
       "      <td>1.0</td>\n",
       "    </tr>\n",
       "  </tbody>\n",
       "</table>\n",
       "</div>"
      ],
      "text/plain": [
       "   Área do imóvel(sq ft)  Preço de venda($)\n",
       "0                    334                0.0\n",
       "1                    438                0.0\n",
       "2                    520                0.0\n",
       "3                    605                1.0\n",
       "4                    672                1.0\n",
       "5                    767                1.0"
      ]
     },
     "execution_count": 14,
     "metadata": {},
     "output_type": "execute_result"
    }
   ],
   "source": [
    "T = 75000\n",
    "df_train_log = df_train.copy()\n",
    "df_train_log['Preço de venda($)'] = (df_train_log['Preço de venda($)'] >= T)*1.\n",
    "df_train_log"
   ]
  },
  {
   "cell_type": "code",
   "execution_count": 15,
   "metadata": {},
   "outputs": [
    {
     "data": {
      "image/png": "[encoded data removed]",
      "text/plain": [
       "<Figure size 432x288 with 1 Axes>"
      ]
     },
     "metadata": {},
     "output_type": "display_data"
    }
   ],
   "source": [
    "y_train = np.array(df_train_log['Preço de venda($)'])\n",
    "w0 = np.array([1.0, 2.0])\n",
    "\n",
    "w = gradient_descent(phi1, y_train, w0, n_iter=1000000, learning_rate=0.01)\n",
    "plot_space = np.linspace(300, 900, 600)\n",
    "linspace_M1 = np.array([np.ones(600), plot_space]).T\n",
    "sigm_logistic = predict_probs(linspace_M1, w)\n",
    "plt.plot(plot_space, sigm_logistic)\n",
    "plt.show()"
   ]
  },
  {
   "cell_type": "code",
   "execution_count": 16,
   "metadata": {},
   "outputs": [
    {
     "data": {
      "text/plain": [
       "0.29450323404029694"
      ]
     },
     "execution_count": 16,
     "metadata": {},
     "output_type": "execute_result"
    }
   ],
   "source": [
    "#4.4\n",
    "A = 560\n",
    "predict_probs([1, A], w)"
   ]
  },
  {
   "cell_type": "markdown",
   "metadata": {},
   "source": [
    "Para uma área de 560 sqft, a probabilidade de ela custar mais do que T = 75000 é de aproximadamente $\\approx 0.295$."
   ]
  },
  {
   "cell_type": "markdown",
   "metadata": {},
   "source": [
    "### Questão 5\n",
    "\n",
    "##### 5.1)"
   ]
  },
  {
   "cell_type": "markdown",
   "metadata": {},
   "source": [
    "Para obter $\\pi_c$ para cada classe, apenas precisamos dividir o número de documentos de cada classe pelo número total de documentos:\n",
    "\n",
    "$$\\pi_0 = \\frac{1072}{2353} \\approx 0.46$$\n",
    "$$\\pi_1 = \\frac{1281}{2353} \\approx 0.54$$\n",
    "\n",
    "Já para $\\theta_{c,j}$, para cada classe, é preciso contar o número de documentos que continham a palavra j, e dividir pelo número total de documentos daquela classe\n",
    "\n",
    "$$\n",
    "\\begin{align}\n",
    "&\\theta_{0,good} = P(good|C=0) \\approx 0.023 && \\theta_{1,good} = P(good|C=1) \\approx 0.030 \\\\\n",
    "&\\theta_{0,funny} = P(funny|C=0) \\approx 0.026 && \\theta_{1,funny} = P(funny|C=1) \\approx 0.045 \\\\\n",
    "&\\theta_{0,love} = P(love|C=0) \\approx 0.009 && \\theta_{1,love} = P(love|C=1) \\approx 0.041 \\\\\n",
    "&\\theta_{0,bad} = P(bad|C=0) \\approx 0.058 && \\theta_{1,bad} = P(bad|C=1) \\approx 0.002 \\\\\n",
    "&\\theta_{0,dull} = P(dull|C=0) \\approx 0.026 && \\theta_{1,dull} = P(dull|C=1) \\approx 0.002 \\\\\n",
    "&\\theta_{0,worst} = P(worst|C=0) \\approx 0.022 && \\theta_{1,worst} = P(worst|C=1) \\approx 0.001 \\\\\n",
    "\\end{align}\n",
    "$$\n",
    "\n",
    "Ou seja, podemos ver que, palavras positivas acontecem mais frequentemente em documentos com análises positivas, enquanto palavras negativas aparecem com maior frequência em documentos com análises negativas."
   ]
  },
  {
   "cell_type": "markdown",
   "metadata": {},
   "source": [
    "##### 5.2)\n",
    "\n",
    "No classificador de Bayes, utilizaremos a fórmula de Bayes para calcular a probabilidade posterior da classe, dado o documento. Ou seja, para a primeira frase da tabela 6, temos:\n",
    "\n",
    "\"This is a very funny, heartwarming film.\"\n",
    "\n",
    "Cuja única palavra da lista que está presente é a palavra \"funny\". Ou seja, para a <i>likelihood</i> desta frase, faremos:\n",
    "\n",
    "$$\n",
    "\\begin{align}\n",
    "P(\\mathcal{D}|C=1) & = P(funny|C=1).P(\\overline{good}|C=1).P(\\overline{love}|C=1).P(\\overline{bad}|C=1).P(\\overline{dull}|C=1).P(\\overline{worst}|C=1) \\\\\n",
    "& \\approx 0.042 \n",
    "\\end{align}\n",
    "$$"
   ]
  },
  {
   "cell_type": "markdown",
   "metadata": {},
   "source": [
    "A <i>prior</i> já conhecemos, e é dada por $\\pi_1 = 0.54$.\n",
    "\n",
    "Por último, precisamos calcular $P(D)$, que é facilmente encontrado utilizando a lei da probabilidade total:\n",
    "\n",
    "$$\n",
    "\\begin{align}\n",
    "P(D) & = P(D|C=1)P(C=1) + P(D|C=0)P(C=0) \\\\\n",
    "& \\approx 0.033\n",
    "\\end{align}\n",
    "$$"
   ]
  },
  {
   "cell_type": "markdown",
   "metadata": {},
   "source": [
    "Fazendo a conta final, temos:\n",
    "\n",
    "$$P(C=1|\\mathcal{D}) = \\frac{P(\\mathcal{D}|C=1)P(C=1)}{P(\\mathcal{D})} \\approx \\frac{0.041*0.54}{0.033} \\approx 0.68$$"
   ]
  },
  {
   "cell_type": "markdown",
   "metadata": {},
   "source": [
    "Temos então que, para a primeira frase, a probabilidade de ser uma frase positiva é de ~68%. Fazendo isso para todas as frases, obtemos: <br>\n",
    "\n",
    "Frase 1: 68% probabilidade de ser positiva <br>\n",
    "Frase 2: 11% probabilidade de ser positiva<br>\n",
    "Frase 3: 5% probabilidade de ser positiva<br>\n",
    "\n",
    "Ou seja, o modelo classificará a primeira frase como sendo positiva, e as outras como sendo negativas."
   ]
  },
  {
   "cell_type": "markdown",
   "metadata": {},
   "source": [
    "##### 5.3)\n",
    "\n",
    "Com os novos dados coletados, os parâmetros $\\theta$ não sofrem alterações, já que a proporção de cada palavras para cada classe continua sendo a mesma. No entanto, o <i>prior</i> $\\pi$ de cada classe será alterado:\n",
    "\n",
    "$$\\pi_0 = \\frac{1072}{129172} \\approx 0.01$$\n",
    "$$\\pi_1 = \\frac{128100}{129172} \\approx 0.99$$"
   ]
  },
  {
   "cell_type": "markdown",
   "metadata": {},
   "source": [
    "Por conta disso, o modelo terá de ser recalculado, e esperamos ver um peso muito maior sendo dado à classe positiva. O raciocínio será feito para a primeira frase da tabela 6:\n",
    "\n",
    "O <i>likelihood</i> não sofreu alterações, já que o parâmetro $\\theta$ continua igual. Então apenas precisamos recalcular $P(\\mathcal{D})$ e levar em consideração o novo <i>prior</i> $\\pi$:\n",
    "\n",
    "$$\n",
    "\\begin{align}\n",
    "P(D) & = P(D|C=1)P(C=1) + P(D|C=0)P(C=0) \\\\\n",
    "& \\approx 0.041\n",
    "\\end{align}\n",
    "$$\n",
    "\n",
    "Temos assim:\n",
    "\n",
    "$$P(C=1|\\mathcal{D}) = \\frac{P(\\mathcal{D}|C=1)P(C=1)}{P(\\mathcal{D})} \\approx \\frac{0.041*0.99}{0.041} \\approx 0.99$$\n",
    "\n",
    "Fazendo o mesmo para as outras frases, temos:\n",
    "\n",
    "Frase 1: 99% probabilidade de ser positiva <br>\n",
    "Frase 2: 91% probabilidade de ser positiva<br>\n",
    "Frase 3: 82% probabilidade de ser positiva<br>"
   ]
  },
  {
   "cell_type": "markdown",
   "metadata": {},
   "source": [
    "Como esperado, a probabilidade de uma frase ser positiva disparou com a coleta dos novos dados. Apesar de palavras negativas estarem mais associados a frases negativas (e o modelo leva isso em consideração, visto a queda de probabilidade entre a frase 1 e as restantes), como o <i>prior</i> não é balanceado entre as classes, ele acaba dominando a classificação dada pelo modelo."
   ]
  },
  {
   "cell_type": "markdown",
   "metadata": {},
   "source": [
    "### Questão 6"
   ]
  },
  {
   "cell_type": "markdown",
   "metadata": {},
   "source": [
    "##### 6.1)\n",
    "\n",
    "A função pdf de uma única amostra $x$ para uma mistura de $K$ gaussianas é dada por:\n",
    "\n",
    "$$p(x|\\Theta) = \\sum_{k=1}^K \\alpha_k p(x| \\mu_k, \\Sigma_k)$$"
   ]
  },
  {
   "cell_type": "markdown",
   "metadata": {},
   "source": [
    "Onde $\\alpha_k$ é a probabilidade da gaussiana $k$ ter gerado a amostra $x$, e $p(x|\\mu_k, \\Sigma_k)$ é a pdf da gaussiana, dada por:\n",
    "\n",
    "$$p(x | \\mu_k, \\Sigma_k) = \\frac{1}{(2\\pi)^{d/2}|\\Sigma_k|^{1/2}} exp^{-\\frac{1}{2}(x - \\mu_k)^T\\Sigma^{-1}(x-\\mu_k)}$$\n",
    "\n",
    "Onde $x \\in \\mathcal{R}^d$\n",
    "\n",
    "Logo, considerando $K = 2$, temos que a pdf para uma mistura de 2 gaussianas é:\n",
    "\n",
    "$$P(x;\\Theta) = \\alpha_1 p(x|z_1, \\mu_1, \\Sigma_1) + \\alpha_2 p(x|z_2, \\mu_2, \\Sigma_2)$$"
   ]
  },
  {
   "cell_type": "markdown",
   "metadata": {},
   "source": [
    "##### 6.2)\n",
    "\n",
    "Não é possível obter uma expressão fechada para a MLE dessa mistura, devido a um problema chamado de identifiabilidade. Os parâmetros da primeira distribuição podem ser trocados com o da segunda distribuição, sem, no entanto, alterar os resultados. Em outras palavras, há mais de uma solução para o problema. <br>\n",
    "Este problema não existia no caso de uma única gaussiana, o que possibilitava encontrar uma forma fechada para a MLE. Mas no caso dos modelos de mistura, esse não é mais o caso."
   ]
  },
  {
   "cell_type": "markdown",
   "metadata": {},
   "source": [
    "##### 6.3)\n",
    "\n",
    "##### Passo E\n",
    "O passo \"E\" do algoritmo EM consiste em calcular o peso de cada observação em relação a cada uma das misturas k. Ou seja, para a mistura de 2 gaussianas, temos:\n",
    "\n",
    "$$w_{i1} = \\frac{\\alpha_1 p(x_i | z_1, \\mu_1, \\Sigma_1)}{\\alpha_1 p(x_i | z_1, \\mu_1, \\Sigma_1) + \\alpha_2 p(x_i | z_2, \\mu_2, \\Sigma_2)} $$\n",
    "$$w_{i2} = \\frac{\\alpha_2 p(x_i | z_2, \\mu_2, \\Sigma_2)}{\\alpha_1 p(x_i | z_1, \\mu_1, \\Sigma_1) + \\alpha_2 p(x_i | z_2, \\mu_2, \\Sigma_2)} $$\n",
    "\n",
    "Que é uma aplicação direta da lei de Bayes. Basicamente, é a probabilidade da gaussiana $k$ ter gerado a observação $x_i$.\n",
    "\n",
    "##### Passo M\n",
    "Neste passo, iremos atualizar três parâmetros do problema: $\\alpha$, $\\mu$ e $\\Sigma$, nesta ordem. Primeiramente, para $\\alpha$, sabemos que os $w_{ik}$ calculados no passo anterior somam 1 para cada observação, ou seja:\n",
    "\n",
    "$$\\sum_{k=1}^K w_{ik} = 1$$\n",
    "\n",
    "Se considerarmos então $N_k = \\sum_{i=1}^N w_{ik}$ como sendo a soma dos pesos da componente $k$ no conjunto de dados, então a probabilidade da componente $k$ ter gerado uma amostra qualquer $x_i$ é dada por:\n",
    "\n",
    "$$\\alpha_k^{new} = \\frac{N_k}{N}$$"
   ]
  },
  {
   "cell_type": "markdown",
   "metadata": {},
   "source": [
    "Tendo fixado $\\alpha_k^{new}$, podemos agora calcular a nova média $\\mu_k$ de cada componente. Lembramos que a <i>likelihood</i> do dataset $X$ é dada por: \n",
    "\n",
    "$$p(X) = \\prod_{n=1}^{N} \\sum\\limits_{k=1}^{K} \\alpha_k p (x_i| \\mu_k, \\Sigma_k)$$\n",
    "\n",
    "Tirando o log disso, obtemos:\n",
    "\n",
    "$$log \\: p(X) = log \\prod_{n=1}^{N} \\sum\\limits_{k=1}^{K} \\alpha_k p (x_i| \\mu_k, \\Sigma_k) = \\sum\\limits_{n=1}^{N} log \\sum\\limits_{k=1}^{K} \\alpha_i p (x_i| \\mu_k, \\Sigma_k)$$\n",
    "\n",
    "Derivando $log \\: p(X)$ em relação a $\\mu_j$, obtemos:\n",
    "\n",
    "$$\\frac{\\delta log \\: p(X)}{\\delta \\mu_j} = \\sum\\limits_{n=1}^{N} \\frac{1}{\\sum\\limits_{k=1}^{K} \\alpha_k p (x_i| \\mu_k, \\Sigma_k)} \\alpha_j p (x_i| \\mu_j, \\Sigma_j) \\frac{(\\mu_j - x_i)}{\\vert \\Sigma_j \\vert} = \\sum\\limits_{n=1}^{N} w_{ij} \\frac{(\\mu_j - x_i)}{\\vert \\Sigma_j \\vert}$$\n",
    "\n",
    "Igualando $\\frac{\\delta log \\: p(X)}{\\delta \\mu_j} = 0$, temos finalmente:"
   ]
  },
  {
   "cell_type": "markdown",
   "metadata": {},
   "source": [
    "$$\\sum\\limits_{n=1}^{N} w_{ij} \\mu_j - \\sum\\limits_{n=1}^{N} w_{ij} x_i = 0$$\n",
    "\n",
    "$$\\mu_j^{new} = \\frac{\\sum\\limits_{n=1}^{N} w_{ij} x_i}{\\sum\\limits_{n=1}^{N} w_{ij}} = \\frac{1}{N_k} \\sum_{i=1}^N w_{ik} x_i$$"
   ]
  },
  {
   "cell_type": "markdown",
   "metadata": {},
   "source": [
    "Para encontrar o novo valor de $\\Sigma_k$, a lógica é a mesma. Obtemos, portanto:\n",
    "\n",
    "$$\\Sigma^{new}_k = \\frac{1}{N_k}\\sum_{i=1}^N w_{ik} (x_i - \\mu_k^{new})(x_i - \\mu_k^{new})^T$$"
   ]
  },
  {
   "cell_type": "markdown",
   "metadata": {},
   "source": [
    "Com os novos parâmetros calculados, substituimos os antigos paramêtros pelos novos, e repetimos o passo E."
   ]
  },
  {
   "cell_type": "code",
   "execution_count": 17,
   "metadata": {},
   "outputs": [
    {
     "ename": "FileNotFoundError",
     "evalue": "[Errno 2] No such file or directory: 'data-EM.txt'",
     "output_type": "error",
     "traceback": [
      "\u001b[0;31m---------------------------------------------------------------------------\u001b[0m",
      "\u001b[0;31mFileNotFoundError\u001b[0m                         Traceback (most recent call last)",
      "\u001b[0;32m<ipython-input-17-40536363bcb6>\u001b[0m in \u001b[0;36m<module>\u001b[0;34m()\u001b[0m\n\u001b[1;32m     45\u001b[0m \u001b[0;34m\u001b[0m\u001b[0m\n\u001b[1;32m     46\u001b[0m \u001b[0;34m\u001b[0m\u001b[0m\n\u001b[0;32m---> 47\u001b[0;31m \u001b[0mdataEM\u001b[0m \u001b[0;34m=\u001b[0m \u001b[0mopen\u001b[0m\u001b[0;34m(\u001b[0m\u001b[0;34m\"data-EM.txt\"\u001b[0m\u001b[0;34m,\u001b[0m \u001b[0;34m'r'\u001b[0m\u001b[0;34m)\u001b[0m\u001b[0;34m\u001b[0m\u001b[0m\n\u001b[0m\u001b[1;32m     48\u001b[0m \u001b[0mdata\u001b[0m \u001b[0;34m=\u001b[0m \u001b[0mnp\u001b[0m\u001b[0;34m.\u001b[0m\u001b[0marray\u001b[0m\u001b[0;34m(\u001b[0m\u001b[0;34m[\u001b[0m\u001b[0mfloat\u001b[0m\u001b[0;34m(\u001b[0m\u001b[0mval\u001b[0m\u001b[0;34m[\u001b[0m\u001b[0;36m1\u001b[0m\u001b[0;34m:\u001b[0m\u001b[0;34m-\u001b[0m\u001b[0;36m2\u001b[0m\u001b[0;34m]\u001b[0m\u001b[0;34m)\u001b[0m \u001b[0;32mfor\u001b[0m \u001b[0mval\u001b[0m \u001b[0;32min\u001b[0m \u001b[0mdataEM\u001b[0m\u001b[0;34m.\u001b[0m\u001b[0mreadlines\u001b[0m\u001b[0;34m(\u001b[0m\u001b[0;34m)\u001b[0m\u001b[0;34m[\u001b[0m\u001b[0;36m5\u001b[0m\u001b[0;34m:\u001b[0m\u001b[0;34m]\u001b[0m\u001b[0;34m]\u001b[0m\u001b[0;34m)\u001b[0m\u001b[0;34m\u001b[0m\u001b[0m\n\u001b[1;32m     49\u001b[0m \u001b[0mmu1\u001b[0m\u001b[0;34m,\u001b[0m \u001b[0mmu2\u001b[0m\u001b[0;34m,\u001b[0m \u001b[0msigma1\u001b[0m\u001b[0;34m,\u001b[0m \u001b[0msigma2\u001b[0m\u001b[0;34m,\u001b[0m \u001b[0malpha1\u001b[0m\u001b[0;34m,\u001b[0m \u001b[0malpha2\u001b[0m\u001b[0;34m,\u001b[0m \u001b[0mlog_likelihoods\u001b[0m \u001b[0;34m=\u001b[0m \u001b[0mEM\u001b[0m\u001b[0;34m(\u001b[0m\u001b[0mdata\u001b[0m\u001b[0;34m,\u001b[0m \u001b[0;36m5\u001b[0m\u001b[0;34m,\u001b[0m \u001b[0;36m15\u001b[0m\u001b[0;34m,\u001b[0m \u001b[0;36m1\u001b[0m\u001b[0;34m,\u001b[0m \u001b[0;36m1\u001b[0m\u001b[0;34m,\u001b[0m \u001b[0;36m0.5\u001b[0m\u001b[0;34m,\u001b[0m \u001b[0;36m0.5\u001b[0m\u001b[0;34m,\u001b[0m \u001b[0mn_iter\u001b[0m\u001b[0;34m=\u001b[0m\u001b[0;36m10\u001b[0m\u001b[0;34m)\u001b[0m\u001b[0;34m\u001b[0m\u001b[0m\n",
      "\u001b[0;31mFileNotFoundError\u001b[0m: [Errno 2] No such file or directory: 'data-EM.txt'"
     ]
    }
   ],
   "source": [
    "#6.4\n",
    "def EM(x, mu1, mu2, sigma1, sigma2, alpha1, alpha2, n_iter=5):\n",
    "    N = len(x)\n",
    "    wi1 = np.zeros(N)\n",
    "    wi2 = np.zeros(N)\n",
    "    log_likelihoods = []\n",
    "    for n in range(n_iter):\n",
    "        #Perform E step\n",
    "        for i in range(N):\n",
    "            p1 = alpha1*normal_likelihood(x[i], mu1, sigma1)\n",
    "            p2 = alpha2*normal_likelihood(x[i], mu2, sigma2)\n",
    "            #print(\"i,p1,p2,: {},{},{}\".format(i, p1,p2))\n",
    "            wi1[i] = p1/(p1+p2)\n",
    "            wi2[i] = p2/(p1+p2)\n",
    "        #Perform M step\n",
    "        N1, N2 = 0, 0\n",
    "        for i in range(N):\n",
    "            N1 += wi1[i]\n",
    "            N2 += wi2[i]\n",
    "            \n",
    "        #Calculate new alphas\n",
    "        alpha1 = N1/N\n",
    "        alpha2 = N2/N\n",
    "\n",
    "        #Calculate new mu\n",
    "        mu1, mu2 = 0, 0\n",
    "        for i in range(N):\n",
    "            mu1 += wi1[i]*x[i]/N1\n",
    "            mu2 += wi2[i]*x[i]/N2\n",
    "        \n",
    "        #Calculate new sigma\n",
    "        sigma1, sigma2 = 0, 0\n",
    "        for i in range(N):\n",
    "            sigma1 += wi1[i]*((x[i] - mu1)**2)/N1\n",
    "            sigma2 += wi2[i]*((x[i] - mu2)**2)/N2\n",
    "            \n",
    "        #Calculate log likelihood for the iteration\n",
    "        res = 0\n",
    "        for i in range(N):\n",
    "            p1 = alpha1*normal_likelihood(x[i], mu1, sigma1)\n",
    "            p2 = alpha2*normal_likelihood(x[i], mu2, sigma2)\n",
    "            res += np.log(p1+p2)\n",
    "        log_likelihoods.append(res)\n",
    "    return mu1, mu2, sigma1, sigma2, alpha1, alpha2, log_likelihoods\n",
    "\n",
    "\n",
    "dataEM = open(\"data-EM.txt\", 'r')\n",
    "data = np.array([float(val[1:-2]) for val in dataEM.readlines()[5:]])\n",
    "mu1, mu2, sigma1, sigma2, alpha1, alpha2, log_likelihoods = EM(data, 5, 15, 1, 1, 0.5, 0.5, n_iter=10)\n",
    "\n",
    "plt.figure(figsize=(15,4))\n",
    "\n",
    "plt.subplot(1,2,1)\n",
    "x1 = np.linspace(mu1 - 3*sigma1, mu1 + 3*sigma1, 100)\n",
    "plt.plot(x1,alpha1*mlab.normpdf(x1, mu1, sigma1), 'C2', label='K1')\n",
    "x2 = np.linspace(mu2 - 3*sigma2, mu2 + 3*sigma2, 100)\n",
    "plt.plot(x2,alpha2*mlab.normpdf(x2, mu2, sigma2), 'C1', label='K2')\n",
    "plt.hist(data, normed=True, color='C0', label='Data')\n",
    "plt.legend()\n",
    "plt.title('Fitted gaussian models')\n",
    "\n",
    "plt.subplot(1,2,2)\n",
    "plt.plot(log_likelihoods)\n",
    "plt.xlabel('Iteration number')\n",
    "plt.ylabel('Log likelihood')\n",
    "plt.show()"
   ]
  }
 ],
 "metadata": {
  "kernelspec": {
   "display_name": "Python 3",
   "language": "python",
   "name": "python3"
  },
  "language_info": {
   "codemirror_mode": {
    "name": "ipython",
    "version": 3
   },
   "file_extension": ".py",
   "mimetype": "text/x-python",
   "name": "python",
   "nbconvert_exporter": "python",
   "pygments_lexer": "ipython3",
   "version": "3.7.0"
  }
 },
 "nbformat": 4,
 "nbformat_minor": 2
}

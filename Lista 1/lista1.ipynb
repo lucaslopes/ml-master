{
 "cells": [
  {
   "cell_type": "markdown",
   "metadata": {},
   "source": [
    "# Machine Learning 2018.3\n",
    "> - **Lista 1**\n",
    "- **Gabarito** (*conforme alunos*)\n",
    "- **Turma**: *CPS-863 / COS-623 / MAB-608*\n",
    "- **Professores**: Edmundo, Daniel S. Menascé e Rosa Leão"
   ]
  },
  {
   "cell_type": "markdown",
   "metadata": {},
   "source": [
    "# Questão 1\n",
    "> Considere um dataset cujas amostras são obtidas independentemente a partir de uma [distribuição discreta uniforme](https://en.wikipedia.org/wiki/Discrete_uniform_distribution) $ U(1,5) $.\n",
    "\n",
    "> Considere um dataset com as seguintes amostras: $ {2, 2, 4, 3, 2} $.\n",
    "    \n",
    "#### 1. Qual a verossimilhança (*likelihood*) de observar essas amostras?"
   ]
  },
  {
   "cell_type": "markdown",
   "metadata": {},
   "source": [
    "$$\n",
    "Likelihood = \\prod_{i = 1}^{N} p(x_i \\mid h_{U(1,5)}) = \\prod_{i = 1}^{N} \\frac{1}{\\mid U(1,5) \\mid} = \\left (\\frac{1}{\\mid U(1,5) \\mid} \\right )^N = \\left (\\frac{1}{5} \\right )^5 = 3.2x10^{-4}\n",
    "$$"
   ]
  },
  {
   "cell_type": "markdown",
   "metadata": {},
   "source": [
    "#### 2. E o log-likelihood?"
   ]
  },
  {
   "cell_type": "markdown",
   "metadata": {},
   "source": [
    "$$\n",
    "LogLikelihood = \\ln \\left (\\frac{1}{5} \\right )^5 = 5 \\ln \\left (\\frac{1}{5} \\right ) = 5 \\times (-1.6094379) = -8.04718956\n",
    "$$"
   ]
  },
  {
   "cell_type": "markdown",
   "metadata": {},
   "source": [
    "# Questão 2\n",
    "> Suponha agora que amostras são obtidas de uma [distribuição contínua uniforme](https://en.wikipedia.org/wiki/Uniform_distribution_(continuous)) $ U(1, 5) $. Considere o mesmo dataset acima.\n",
    "\n",
    "#### 1. Qual a likelihood function?"
   ]
  },
  {
   "cell_type": "code",
   "execution_count": null,
   "metadata": {},
   "outputs": [],
   "source": []
  },
  {
   "cell_type": "markdown",
   "metadata": {},
   "source": [
    "# Questão 3\n",
    "> Assume you are given a biased coin such that with probability $p$ you obtain heads $(H)$ and $(1−p)$ tails $(T)$. You toss the coin $N$ times and obtain $N_H$ heads (and $N − N_H$ tails, of course)\n",
    "\n",
    "#### 1. Obtain likelihood function $ \\mathcal{L}(\\theta \\mid \\mathcal{D}) = p(\\mathcal{D} \\mid \\theta) $ were $\\theta$ is parameter vector (the model is clearly very simple in this case). What is the value of $ p(\\mathcal{D} \\mid \\theta) $ if $ \\mathcal{D} = \\{HHTHTTHTTT\\} $ and $ p = 0.2 $? And if $ p = 0.6 $?"
   ]
  },
  {
   "cell_type": "code",
   "execution_count": null,
   "metadata": {},
   "outputs": [],
   "source": []
  },
  {
   "cell_type": "markdown",
   "metadata": {},
   "source": [
    "#### 2. For $ \\mathcal{D} $ given in the item above, find p that optimizes the log likelihood. In general, find $ p $ as a function of $ N $ and $ NH $ for any given set $ \\mathcal{D} $."
   ]
  },
  {
   "cell_type": "code",
   "execution_count": null,
   "metadata": {},
   "outputs": [],
   "source": []
  },
  {
   "cell_type": "markdown",
   "metadata": {},
   "source": [
    "## Questão 4\n",
    "> Suponha agora que suas amostras são obtidas ou de uma distribuição discreta $U(1,5)$ ou a partir de um dado (seis faces) sendo que todas as amostras são obtidas da mesma distribuição. Suponha que o a probabilidade das amostras serem obtidas do dado é igual a $p$. Considere o conjunto de dados $ \\{2,2,4,3,2\\} $, e seja $p = 0.7$.\n",
    "\n",
    "#### 1. Qual a _likelihood_ das amostras serem retiradas a partir: $(a)$ do dado se seis faces, ou $(b)$ de uma $U(1,5)$ discreta?"
   ]
  },
  {
   "cell_type": "code",
   "execution_count": null,
   "metadata": {},
   "outputs": [],
   "source": []
  },
  {
   "cell_type": "markdown",
   "metadata": {},
   "source": [
    "#### 2. Qual o _posterior distribution_?"
   ]
  },
  {
   "cell_type": "code",
   "execution_count": null,
   "metadata": {},
   "outputs": [],
   "source": []
  },
  {
   "cell_type": "markdown",
   "metadata": {},
   "source": [
    "#### 3. Uma vez que o dataset acima foi observado, qual a probabilidade de se retirar o número 5?"
   ]
  },
  {
   "cell_type": "code",
   "execution_count": null,
   "metadata": {},
   "outputs": [],
   "source": []
  },
  {
   "cell_type": "markdown",
   "metadata": {},
   "source": [
    "#### 4. Uma vez que o dataset acima foi observado, qual a probabilidade de se retirar o número 6?"
   ]
  },
  {
   "cell_type": "code",
   "execution_count": null,
   "metadata": {},
   "outputs": [],
   "source": []
  },
  {
   "cell_type": "markdown",
   "metadata": {},
   "source": [
    "#### 5. Qual o MLE?"
   ]
  },
  {
   "cell_type": "code",
   "execution_count": null,
   "metadata": {},
   "outputs": [],
   "source": []
  },
  {
   "cell_type": "markdown",
   "metadata": {},
   "source": [
    "#### 6. Qual o MAP?"
   ]
  },
  {
   "cell_type": "code",
   "execution_count": null,
   "metadata": {},
   "outputs": [],
   "source": []
  },
  {
   "cell_type": "markdown",
   "metadata": {},
   "source": [
    "#### 7. Caso $p = 0.5$, quais das respostas acima mudam de valor? Explique."
   ]
  },
  {
   "cell_type": "code",
   "execution_count": null,
   "metadata": {},
   "outputs": [],
   "source": []
  },
  {
   "cell_type": "markdown",
   "metadata": {},
   "source": [
    "## Questão 5\n",
    "> Suponha agora que suas amostras são obtidas ou de uma distribuição discreta $U(1,5)$ ou a partir de um dado (seis faces) com probabilidade $(1 − p)$ e $p$, respectivamente. Entretanto, nesta questão, a sequência pode conter amostras de ambas distribuições (mistura de distribuições). Considere o mesmo conjunto de dados $\\{2, 2, 4, 3, 2\\}$, e seja $p = 0.7$.\n",
    "\n",
    "#### 1. Qual a _likelihood_ de observar essas amostras?"
   ]
  },
  {
   "cell_type": "code",
   "execution_count": null,
   "metadata": {},
   "outputs": [],
   "source": []
  },
  {
   "cell_type": "markdown",
   "metadata": {},
   "source": [
    "#### 2. Uma vez que o dataset acima foi observado, qual a probabilidade de se retirar o número $5$?"
   ]
  },
  {
   "cell_type": "code",
   "execution_count": null,
   "metadata": {},
   "outputs": [],
   "source": []
  },
  {
   "cell_type": "markdown",
   "metadata": {},
   "source": [
    "#### 3. Uma vez que o dataset acima foi observado, qual a probabilidade de se retirar o número $6$?"
   ]
  },
  {
   "cell_type": "code",
   "execution_count": null,
   "metadata": {},
   "outputs": [],
   "source": []
  },
  {
   "cell_type": "markdown",
   "metadata": {},
   "source": [
    "#### Qual a probabilidade de _todas_ as amostras serem retiradas a partir:\n",
    "- **a) do dado se seis faces; ou**\n",
    "- **b) de uma $U(1,5)$ discreta?**"
   ]
  },
  {
   "cell_type": "code",
   "execution_count": null,
   "metadata": {},
   "outputs": [],
   "source": []
  },
  {
   "cell_type": "markdown",
   "metadata": {},
   "source": [
    "#### Calcule o _likelihood function_ para as amostras em função de $p$, o log likelihood e obtenha o valor de $p$ que melhor explica o conjunto de dados. Comente a sua resposta."
   ]
  },
  {
   "cell_type": "code",
   "execution_count": null,
   "metadata": {},
   "outputs": [],
   "source": []
  },
  {
   "cell_type": "markdown",
   "metadata": {},
   "source": [
    "#### Repita o item anterior, supondo que o conjunto de dados tem cardinalidade $20$ e apenas uma única amostra tenha valor igual a $6$."
   ]
  },
  {
   "cell_type": "markdown",
   "metadata": {},
   "source": [
    "## Questão 6\n",
    "> Consider a Uniform distribution $[−a, a]$, with density function:\n",
    "$$ p(x) = \\frac{1}{2a} \\mathbb{1}{(x \\in [−a,a])} $$\n",
    "where $\\mathbb{1}()$ is the indicator function.\n",
    "\n",
    "> Suppose you are given a dataset $ \\mathcal{D} = \\{x_1,x_2,...,x_N\\}$.\n",
    "\n",
    "#### 1. Obtain $\\hat{a}$ the MLE for the uniform distribution above with parameter $a$."
   ]
  },
  {
   "cell_type": "code",
   "execution_count": null,
   "metadata": {},
   "outputs": [],
   "source": []
  },
  {
   "cell_type": "markdown",
   "metadata": {},
   "source": [
    "#### 2. Using aˆ, what is the probability that a new datapoint has value v? (p(xN+1 = v)). Discuss: any problems with this approach?"
   ]
  },
  {
   "cell_type": "code",
   "execution_count": null,
   "metadata": {},
   "outputs": [],
   "source": []
  },
  {
   "cell_type": "markdown",
   "metadata": {},
   "source": [
    "## Questão 7\n",
    "> Suppose that you have $2$ random variables $X$ and $Y$ . We are interested in studying the dependence of $Y$ on $X$.\n",
    "Let $f(x)$ be a function that predicts the value of $y$ for $x$, that is $y = f(x) + \\epsilon $ where $\\epsilon$ is the error of the prediction. Let $D = Y − f(X)$. Assume $f(x) = ax + b$.\n",
    "\n",
    "> Find the values of $a$ and $b$ that minimizes $E[D^2]$, as a function of $E[X]$, $E[Y]$, $Var(X)$, $Var(Y)$, $Cov(X, Y)$, where:\n",
    "- $ Var(X) = E[(X −E[X])^2]$\n",
    "- $Var(Y) = E[(Y −E[Y])2]$\n",
    "- $Cov(X,Y) = E[(X − E[X])(Y − E[Y])$"
   ]
  },
  {
   "cell_type": "code",
   "execution_count": null,
   "metadata": {},
   "outputs": [],
   "source": []
  },
  {
   "cell_type": "markdown",
   "metadata": {},
   "source": [
    "## Questão 8\n",
    "> Suppose that a person will be tossing a coin and beforehand may choose from one biased or one fair coin. If the biased coin is used the results is $H(head)$ with probability $p$. Suppose that you observe the sequence **H H H H T T T T H T** and that the sequence comes from a single coin, but you do not know which one has been chosen.\n",
    "\n",
    "#### 1. Which coin do you think is being used? (Use what you learn from MLE concepts)"
   ]
  },
  {
   "cell_type": "code",
   "execution_count": null,
   "metadata": {},
   "outputs": [],
   "source": []
  },
  {
   "cell_type": "markdown",
   "metadata": {},
   "source": [
    "#### 2. If you know ahead of time that the person chooses the fair coin with probability $0.3$ would our answer change? Why?"
   ]
  },
  {
   "cell_type": "code",
   "execution_count": null,
   "metadata": {},
   "outputs": [],
   "source": []
  },
  {
   "cell_type": "markdown",
   "metadata": {},
   "source": [
    "#### 3. Suppose you know that the probability that the chosen coin is biased is equal to $0.7$ (and fair is equal to $0.3$). Obtain the likelihood $p(\\mathcal{D} \\mid h_{biased})$ and $p(\\mathcal{D} \\mid h_{fair})$, where $h_{biased}$ is the event that the coin used is biased (fair)."
   ]
  },
  {
   "cell_type": "code",
   "execution_count": null,
   "metadata": {},
   "outputs": [],
   "source": []
  },
  {
   "cell_type": "markdown",
   "metadata": {},
   "source": [
    "#### 4. Obtain the posterior $p(h_{biased} \\mid \\mathcal{D})$ and $p(h_{fair} \\mid \\mathcal{D})$"
   ]
  },
  {
   "cell_type": "code",
   "execution_count": null,
   "metadata": {},
   "outputs": [],
   "source": []
  }
 ],
 "metadata": {
  "kernelspec": {
   "display_name": "Python 3",
   "language": "python",
   "name": "python3"
  },
  "language_info": {
   "codemirror_mode": {
    "name": "ipython",
    "version": 3
   },
   "file_extension": ".py",
   "mimetype": "text/x-python",
   "name": "python",
   "nbconvert_exporter": "python",
   "pygments_lexer": "ipython3",
   "version": "3.7.0"
  }
 },
 "nbformat": 4,
 "nbformat_minor": 2
}

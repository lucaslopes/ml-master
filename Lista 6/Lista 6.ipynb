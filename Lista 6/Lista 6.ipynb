{
 "cells": [
  {
   "cell_type": "markdown",
   "metadata": {},
   "source": [
    "# Machine Learning 2018.3\n",
    "> - **Lista 6** - *Entregue no dia da 2ª prova*\n",
    "- **Lucas Lopes Felipe** - *PPGI*\n",
    "- **Turma**: *CPS-863 / COS-623 / MAB-608*\n",
    "- **Professores**: Edmundo, Daniel S. Menascé e Rosa Leão"
   ]
  },
  {
   "cell_type": "code",
   "execution_count": null,
   "metadata": {},
   "outputs": [],
   "source": []
  }
 ],
 "metadata": {
  "kernelspec": {
   "display_name": "Python 3",
   "language": "python",
   "name": "python3"
  },
  "language_info": {
   "codemirror_mode": {
    "name": "ipython",
    "version": 3
   },
   "file_extension": ".py",
   "mimetype": "text/x-python",
   "name": "python",
   "nbconvert_exporter": "python",
   "pygments_lexer": "ipython3",
   "version": "3.7.0"
  }
 },
 "nbformat": 4,
 "nbformat_minor": 2
}

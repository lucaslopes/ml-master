{
 "cells": [
  {
   "cell_type": "markdown",
   "metadata": {},
   "source": [
    "# Machine Learning 2018.3\n",
    "> - **Lista 7**\n",
    "- **Lucas Lopes Felipe** - *PPGI*\n",
    "- **Turma**: *CPS-863 / COS-623 / MAB-608*\n",
    "- **Professores**: Edmundo, Daniel S. Menascé e Rosa Leão"
   ]
  },
  {
   "cell_type": "markdown",
   "metadata": {},
   "source": [
    "## Questão 1\n",
    "\n",
    "#### 1. For the probability distribution $P(A, B, C, D)$ with the factorization $P(A, B, C, D) = P(A) \\; P(B) \\; P(C \\mid A, B) \\; P(D \\mid C)$, show that the following conditional independence assumptions hold."
   ]
  },
  {
   "cell_type": "markdown",
   "metadata": {},
   "source": [
    "<img src=\"./imgs/q_1_1.jpg\" width=\"250\"/>"
   ]
  },
  {
   "cell_type": "markdown",
   "metadata": {},
   "source": [
    "##### a) $A \\perp \\!\\!\\! \\perp B \\mid 0 $"
   ]
  },
  {
   "cell_type": "markdown",
   "metadata": {},
   "source": [
    "_V-Structure_ sem variável conhecida no descendente, logo, **inativo**.\n",
    "\n",
    "<img src=\"./imgs/q_1_1_a.jpg\" width=\"150\"/>\n",
    "\n",
    "Ou seja, **É condicionalmente independente**."
   ]
  },
  {
   "cell_type": "markdown",
   "metadata": {},
   "source": [
    "##### b) $A \\perp \\!\\!\\! \\perp D \\mid C$"
   ]
  },
  {
   "cell_type": "markdown",
   "metadata": {},
   "source": [
    "_Corrente Causal_ com variável conhecida no meio, logo, **inativo**.\n",
    "\n",
    "<img src=\"./imgs/q_1_1_b.jpg\" width=\"200\"/>\n",
    "\n",
    "Ou seja, **É condicionalmente independente**."
   ]
  },
  {
   "cell_type": "markdown",
   "metadata": {},
   "source": [
    "#### 2. For the probability distribution $P(A, B, C, D)$ with the factorization $P(A, B, C, D) = P(A) \\; P(B \\mid A) \\; P(C \\mid A) \\; P(D \\mid C)$, show that the following conditional independence assumptions hold."
   ]
  },
  {
   "cell_type": "markdown",
   "metadata": {},
   "source": [
    "<img src=\"./imgs/q_1_2.jpg\" width=\"250\"/>"
   ]
  },
  {
   "cell_type": "markdown",
   "metadata": {},
   "source": [
    "##### a) $A \\perp \\!\\!\\! \\perp D \\mid C$"
   ]
  },
  {
   "cell_type": "markdown",
   "metadata": {},
   "source": [
    "_Corrente Causal_ com variável conhecida no meio, logo, **inativo**.\n",
    "\n",
    "<img src=\"./imgs/q_1_1_b.jpg\" width=\"200\"/>\n",
    "\n",
    "Ou seja, **É condicionalmente independente**."
   ]
  },
  {
   "cell_type": "markdown",
   "metadata": {},
   "source": [
    "##### b) $B \\perp \\!\\!\\! \\perp D \\mid C$"
   ]
  },
  {
   "cell_type": "markdown",
   "metadata": {},
   "source": [
    "O caminho de $B$ até $D$, passa por 2 triplas:\n",
    "\n",
    "1. _Causa em Comum_ com variável conhecida numa das pontas, logo, **ativo**\n",
    "\n",
    "<img src=\"./imgs/q_1_2_b_1_.jpg\" width=\"150\"/>\n",
    "\n",
    "2. _Corrente Causal_ com variável conhecida no meio, logo, **inativo.**\n",
    "\n",
    "<img src=\"./imgs/q_1_1_b.jpg\" width=\"200\"/>\n",
    "\n",
    "Quando há inativo no caminho, o caminho inteiro torna-se **inativo**.\n",
    "\n",
    "Ou seja, **É condicionalmente independente**."
   ]
  },
  {
   "cell_type": "markdown",
   "metadata": {},
   "source": [
    "## Questão 2\n",
    "> A doctor gives patients a drug based on their age and gender. So a patient probability to recover is dependent on receiving the drug, the age and gender. Additionally age and gender are conditionally independent if nothing else is known about the patient.\n",
    "\n",
    "#### 1. Draw the Bayesian network which describes this situation."
   ]
  },
  {
   "cell_type": "markdown",
   "metadata": {},
   "source": [
    "<img src=\"./imgs/q_2_1.jpg\" width=\"250\"/>"
   ]
  },
  {
   "cell_type": "markdown",
   "metadata": {},
   "source": [
    "#### 2. How does the factorized probability distribution look like?"
   ]
  },
  {
   "cell_type": "markdown",
   "metadata": {},
   "source": [
    "$P(A, G, D, R) = P(A) \\; P(G) \\; P(D \\mid A, G) \\; P(R \\mid D, A, G)$"
   ]
  },
  {
   "cell_type": "markdown",
   "metadata": {},
   "source": [
    "#### 3. Write down the formula to compute the probability that a patient recovers, given that you know if the drug was given."
   ]
  },
  {
   "cell_type": "code",
   "execution_count": null,
   "metadata": {},
   "outputs": [],
   "source": []
  },
  {
   "cell_type": "markdown",
   "metadata": {},
   "source": [
    "## Questão 3\n",
    "> In _Figure 1_ you can see a Bayesian network which is used for the diagnosis of lung cancer and tuberculosis. Each variable is boolean. This network represents the following problem. Shortness-of-breath (dyspnea) may be due to tuberculosis, lung cancer or bronchitis, or more than one of them. A recent visit to Asia increases the chances of tuberculosis, while smoking is known to be a risk factor for both lung cancer and bronchitis. A single chest X-ray does not discriminate between lung cancer and tuberculosis, as neither does the presence or absence of shortness-of-breath.\n",
    "\n",
    "_Figura 1: Bayesian network for the diagnosis of lung cancer and tuberculosis._\n",
    "\n",
    "<img src=\"./imgs/q_3.jpg\" width=\"500\"/>"
   ]
  },
  {
   "cell_type": "markdown",
   "metadata": {},
   "source": [
    "#### 1. Check if the following conditional independence assumptions are true or false.\n",
    "\n",
    "- tuberculosis $\\perp \\!\\!\\! \\perp$ smoking $\\mid$ dyspnea (**F**)"
   ]
  },
  {
   "cell_type": "markdown",
   "metadata": {},
   "source": [
    "Há 2 caminhos que conecta $t$ a $s$:\n",
    "\n",
    "1. Passando por $e$ e $l$\n",
    "\n",
    "<img src=\"./imgs/q_3_1_a.jpg\" width=\"250\"/>\n",
    "\n",
    "\n",
    "2. Passando por $e$, $d$ e $b$\n",
    "\n",
    "<img src=\"./imgs/q_3_1_b.jpg\" width=\"250\"/>\n",
    "\n",
    "Onde este é formado por 3 triplas, todas ativas:\n",
    "\n",
    "\n",
    "2.1 _Corrente Causal_ com nó conhecido na ponta, logo **ativo**\n",
    "\n",
    "<img src=\"./imgs/q_3_1_b_1.jpg\" width=\"200\"/>\n",
    "\n",
    "\n",
    "2.2 _V-Structure_ com nó conhecido no descendente, logo **ativo**\n",
    "\n",
    "<img src=\"./imgs/q_3_1_b_2.jpg\" width=\"150\"/>\n",
    "\n",
    "\n",
    "2.3 _Corrente Causal_ com nó conhecido na ponta, logo **ativo**\n",
    "\n",
    "<img src=\"./imgs/q_3_1_b_3.jpg\" width=\"200\"/>\n",
    "\n",
    "\n",
    "Sendo todos **ativos** no caminho entre $t$ e $s$ (passando por $e$, $d$ e $b$), logo o caminho é **ativo**.\n",
    "\n",
    "Portanto, há dependencia entre _tuberculosis_ e _smoking_, ou seja, suposição **Falsa**."
   ]
  },
  {
   "cell_type": "markdown",
   "metadata": {},
   "source": [
    "- lungcancer $\\perp \\!\\!\\! \\perp$ bronchitis $\\mid$ smoking  (**V**)"
   ]
  },
  {
   "cell_type": "markdown",
   "metadata": {},
   "source": [
    "Há 2 caminhos que conecta $l$ e $b$:\n",
    "\n",
    "1. Passando por $s$\n",
    "\n",
    "<img src=\"./imgs/q_3_1_2_1.jpg\" width=\"150\"/>\n",
    "\n",
    "Que é uma tripla de _Causa em Comum_ com nó conhecido no antecessor, logo **inativo**.\n",
    "\n",
    "Ou seja, o 1º caminho é **inativo**\n",
    "\n",
    "2. Passando por $e$ e $d$\n",
    "\n",
    "<img src=\"./imgs/q_3_1_2_2.jpg\" width=\"150\"/>\n",
    "\n",
    "Onde este é formado por 2 triplas:\n",
    "\n",
    "\n",
    "2.1 _Corrente Causal_ sem nó conhecido, logo **ativo**\n",
    "\n",
    "<img src=\"./imgs/q_3_1_2_2_a.jpg\" width=\"200\"/>\n",
    "\n",
    "2.2 _V-Structure_ sem nó conhecido, logo **inativo**\n",
    "\n",
    "<img src=\"./imgs/q_3_1_2_2_b.jpg\" width=\"150\"/>\n",
    "\n",
    "Como há uma tripla inativa, logo todo caminho é também **inativo**\n",
    "\n",
    "\n",
    "Sendo os 2 caminhos possíveis que conectam $l$ e $b$ **inativos**, logo há relação de independência entre _lungancer_ e _bronchitis_. Portanto, suposição **Verdadeira**"
   ]
  },
  {
   "cell_type": "markdown",
   "metadata": {},
   "source": [
    "- visit to Asia $\\perp \\!\\!\\! \\perp$ smoking $\\mid$ lungcancer  (**V**)"
   ]
  },
  {
   "cell_type": "markdown",
   "metadata": {},
   "source": [
    "Há 2 caminhos que conecta $a$ a $s$:\n",
    "\n",
    "1. Passando por $t$, $e$ e $l$\n",
    "\n",
    "<img src=\"./imgs/q_3_1_c_1.jpg\" width=\"150\"/>\n",
    "\n",
    "Onde este é formado por 3 triplas:\n",
    "\n",
    "\n",
    "1.1 _Corrente Causal_ sem nó conhecido, logo **ativo**\n",
    "\n",
    "<img src=\"./imgs/q_3_1_c_1_1.jpg\" width=\"200\"/>\n",
    "\n",
    "\n",
    "1.2 _V-Structure_ com nó conhecido em um dos antepassados, logo **inativo**\n",
    "\n",
    "<img src=\"./imgs/q_3_1_c_1_2.jpg\" width=\"150\"/>\n",
    "\n",
    "\n",
    "1.3 _Corrente Causal_ com nó conhecido no meio, logo **inativo**\n",
    "\n",
    "<img src=\"./imgs/q_3_1_c_1_3.jpg\" width=\"200\"/>\n",
    "\n",
    "\n",
    "Sendo as 2 triplas inativas, logo o 1º caminho é também **inativo**.\n",
    "\n",
    "\n",
    "2. Passando por $t$, $e$, $d$ e $b$\n",
    "\n",
    "<img src=\"./imgs/q_3_1_c_2.jpg\" width=\"150\"/>\n",
    "\n",
    "Onde este é formado por 4 triplas:\n",
    "\n",
    "\n",
    "2.1 _Corrente Causal_ sem nó conhecido, logo **ativo**\n",
    "\n",
    "<img src=\"./imgs/q_3_1_c_d.jpg\" width=\"200\"/>\n",
    "\n",
    "\n",
    "2.2 _Corrente Causal_ sem nó conhecido, logo **ativo**\n",
    "\n",
    "<img src=\"./imgs/q_3_1_c_2_1.jpg\" width=\"200\"/>\n",
    "\n",
    "\n",
    "2.3  _V-Structure_ sem nó conhecido, logo **inativo**\n",
    "\n",
    "<img src=\"./imgs/q_3_1_c_2_2.jpg\" width=\"150\"/>\n",
    "\n",
    "\n",
    "2.4 _Corrente Causal_ sem nó conhecido, logo **ativo**\n",
    "\n",
    "<img src=\"./imgs/q_3_1_c_2_3.jpg\" width=\"200\"/>\n",
    "\n",
    "\n",
    "Havendo uma tripla inativa no caminho, logo todo o 2º caminho é também **inativo**.\n",
    "\n",
    "Sendo os 2 caminhos possíveis inativos, logo _Asia_ e _smoking_ são condicionalmente independentes. Portanto, é uma suposição **Verdadeira**"
   ]
  },
  {
   "cell_type": "markdown",
   "metadata": {},
   "source": [
    "- visit to Asia $\\perp \\!\\!\\! \\perp$ smoking $\\mid$ lungcancer, dyspnea (**F**)"
   ]
  },
  {
   "cell_type": "markdown",
   "metadata": {},
   "source": [
    "Há 2 caminhos que conecta $a$ a $s$:\n",
    "\n",
    "1. Passando por $t$, $e$ e $l$\n",
    "\n",
    "<img src=\"./imgs/q_3_1_c_1.jpg\" width=\"150\"/>\n",
    "\n",
    "Que é idêntico ao anterior, com 1 tripla ativa e 2 triplas inativas, ou seja, o 1º caminho é **inativo**\n",
    "\n",
    "\n",
    "2. Passando por $t$, $e$, $d$ e $b$\n",
    "\n",
    "<img src=\"./imgs/q_3_1_d.jpg\" width=\"150\"/>\n",
    "\n",
    "Onde este é formado por 4 triplas, todas inativas:\n",
    "\n",
    "\n",
    "2.1 _Corrente Causal_ sem nó conhecido, logo **ativo**\n",
    "\n",
    "<img src=\"./imgs/q_3_1_c_d.jpg\" width=\"200\"/>\n",
    "\n",
    "\n",
    "2.2 _Corrente Causal_ com nó conhecido na ponta, logo **ativo**\n",
    "\n",
    "<img src=\"./imgs/q_3_1_d_2.jpg\" width=\"200\"/>\n",
    "\n",
    "\n",
    "2.3 _V-Structure_ com nó conhecido no descendente, logo **ativo**\n",
    "\n",
    "<img src=\"./imgs/q_3_1_d_3.jpg\" width=\"150\"/>\n",
    "\n",
    "\n",
    "2.4 _Corrente Causal_ com nó conhecido na ponta, logo **ativo**\n",
    "\n",
    "<img src=\"./imgs/q_3_1_d_4.jpg\" width=\"200\"/>\n",
    "\n",
    "\n",
    "Sendo todas triplas ativas no 2º caminho, logo este é **ativo**.\n",
    "\n",
    "Havendo um caminho ativo que conecte $a$ a $s$ ativo, logo, há relação de dependência entre _Asia_ e _smoking_. Ou seja, é uma suposição **Falsa**."
   ]
  },
  {
   "cell_type": "markdown",
   "metadata": {},
   "source": [
    "#### 2. Compute the joint distribution of the network $P[x, d, e, t, l, b, a, s]$."
   ]
  },
  {
   "cell_type": "markdown",
   "metadata": {},
   "source": [
    "$P[x, d, e, t, l, b, a, s] = P(a) \\; P(t \\mid a) \\; P(e \\mid t, l) \\; P(x \\mid e) \\; P(d \\mid e, b) \\; P(l \\mid s) \\; P(b \\mid s) \\; P(s)$"
   ]
  },
  {
   "cell_type": "markdown",
   "metadata": {},
   "source": [
    "#### 3. Compute the following probability $P[t = true \\mid s = true, d = true]$."
   ]
  },
  {
   "cell_type": "code",
   "execution_count": null,
   "metadata": {},
   "outputs": [],
   "source": []
  }
 ],
 "metadata": {
  "kernelspec": {
   "display_name": "Python 3",
   "language": "python",
   "name": "python3"
  },
  "language_info": {
   "codemirror_mode": {
    "name": "ipython",
    "version": 3
   },
   "file_extension": ".py",
   "mimetype": "text/x-python",
   "name": "python",
   "nbconvert_exporter": "python",
   "pygments_lexer": "ipython3",
   "version": "3.7.0"
  }
 },
 "nbformat": 4,
 "nbformat_minor": 2
}

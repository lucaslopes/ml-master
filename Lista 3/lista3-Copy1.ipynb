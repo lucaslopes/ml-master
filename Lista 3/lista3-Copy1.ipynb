{
 "cells": [
  {
   "cell_type": "markdown",
   "metadata": {},
   "source": [
    "# Machine Learning 2018.3\n",
    "> - **Lista 3**\n",
    "- **Lucas Lopes Felipe** - *PPGI*\n",
    "- **Turma**: *CPS-863 / COS-623 / MAB-608*\n",
    "- **Professores**: Edmundo, Daniel S. Menascé e Rosa Leão"
   ]
  },
  {
   "cell_type": "markdown",
   "metadata": {},
   "source": [
    "## Base de Dados\n",
    "\n",
    "> As características dos dados fornecidos são: idade do paciente, peso (kg), carga final (watts) e VO$_2$ máximo (mg/Kg/min). Fornecemos um ($1$) arquivo com dados de $1.172$ pacientes coletados pelo Professor e sua equipe: *Dados-medicos.csv*."
   ]
  },
  {
   "cell_type": "code",
   "execution_count": 1,
   "metadata": {},
   "outputs": [
    {
     "data": {
      "text/html": [
       "<div>\n",
       "<style scoped>\n",
       "    .dataframe tbody tr th:only-of-type {\n",
       "        vertical-align: middle;\n",
       "    }\n",
       "\n",
       "    .dataframe tbody tr th {\n",
       "        vertical-align: top;\n",
       "    }\n",
       "\n",
       "    .dataframe thead th {\n",
       "        text-align: right;\n",
       "    }\n",
       "</style>\n",
       "<table border=\"1\" class=\"dataframe\">\n",
       "  <thead>\n",
       "    <tr style=\"text-align: right;\">\n",
       "      <th></th>\n",
       "      <th>Idade (anos)</th>\n",
       "      <th>Peso (kg)</th>\n",
       "      <th>Carga Final</th>\n",
       "      <th>VO2 medido máximo (mL/kg/min)</th>\n",
       "    </tr>\n",
       "  </thead>\n",
       "  <tbody>\n",
       "    <tr>\n",
       "      <th>0</th>\n",
       "      <td>49</td>\n",
       "      <td>79.1</td>\n",
       "      <td>250.0</td>\n",
       "      <td>49.051833</td>\n",
       "    </tr>\n",
       "    <tr>\n",
       "      <th>1</th>\n",
       "      <td>30</td>\n",
       "      <td>52.4</td>\n",
       "      <td>177.0</td>\n",
       "      <td>41.603053</td>\n",
       "    </tr>\n",
       "    <tr>\n",
       "      <th>2</th>\n",
       "      <td>56</td>\n",
       "      <td>65.8</td>\n",
       "      <td>140.0</td>\n",
       "      <td>32.674772</td>\n",
       "    </tr>\n",
       "    <tr>\n",
       "      <th>3</th>\n",
       "      <td>29</td>\n",
       "      <td>78.0</td>\n",
       "      <td>400.0</td>\n",
       "      <td>59.102564</td>\n",
       "    </tr>\n",
       "    <tr>\n",
       "      <th>4</th>\n",
       "      <td>49</td>\n",
       "      <td>69.2</td>\n",
       "      <td>242.0</td>\n",
       "      <td>48.410405</td>\n",
       "    </tr>\n",
       "  </tbody>\n",
       "</table>\n",
       "</div>"
      ],
      "text/plain": [
       "   Idade (anos)  Peso (kg)  Carga Final  VO2 medido máximo (mL/kg/min)\n",
       "0            49       79.1        250.0                      49.051833\n",
       "1            30       52.4        177.0                      41.603053\n",
       "2            56       65.8        140.0                      32.674772\n",
       "3            29       78.0        400.0                      59.102564\n",
       "4            49       69.2        242.0                      48.410405"
      ]
     },
     "execution_count": 1,
     "metadata": {},
     "output_type": "execute_result"
    }
   ],
   "source": [
    "import pandas as pd\n",
    "df = pd.read_csv('./data/Dados-medicos.txt', sep=\" \")\n",
    "df.head()"
   ]
  },
  {
   "cell_type": "markdown",
   "metadata": {},
   "source": [
    "> Antes de fazer as questões Você deve escolher **aleatoriamente** um subconjunto de 1.000 amostras para treinar os modelos e as 172 restantes serão usados para testar o modelo. Indique, no início do seu relatório, o vetor de índice das amostra escolhidas para treinamento e para teste. (Por exemplo: vetor de treinamento $t = \\langle 1, 0, 0, 1, 1, 1, 0, . . .\\rangle$, onde $t(i) = 1$ se a i-ésima amostra foi escolhida para treinamento, e $t(i) = 0$ para teste."
   ]
  },
  {
   "cell_type": "code",
   "execution_count": 2,
   "metadata": {},
   "outputs": [
    {
     "name": "stdout",
     "output_type": "stream",
     "text": [
      "10111111001111111111111101111111111101101111111111111111011111011111111011111101111111110011111110001110111011111111111111101111011001111001011111011111111010101111110111101111110111111111001110101111111111111101111111111101011010111111000101111111111111111111111101111011111111111111101001110111011111111100110101111111111111101111111011111111111100111111111111101111110111111111111110011111010111111111111111111111111011111001110111111111101111111111111110111011101111110101111111111111011111111111111111111111111111111100111100101011111101111110111111101111111111101111111111111111110111010010011111111111000000111111011011100111111110111100111010101011011111111101111111011111111101011110011111111111111111111111111111111111111111111100111111111111111110111111111111111111011111111111111111111111110110011111101111111101101111111111101111011111110100111111111111111111111111111111010101101111110110111111111101111111111111110111111011111111101101101110111001111110111110111111111111111110111110111011111111111101111111111110111011111010111111111110111111011111111111111111011011110101011101111111111111111101111111111111011111111111111111111011101110110101111111110111\n",
      "Train: 1000 / Test: 172 / Total: 1172\n"
     ]
    }
   ],
   "source": [
    "import numpy as np\n",
    "\n",
    "def filter(total, test):\n",
    "    t = np.ones(total, dtype=int)\n",
    "    i = test\n",
    "    while i > 0:\n",
    "        pos = np.random.randint(total)\n",
    "        if t[pos] == 1:\n",
    "            t[pos] = 0\n",
    "            i -= 1\n",
    "    return (t == 1)\n",
    "\n",
    "t = filter(1172, 172)    \n",
    "train = df[t]\n",
    "test  = df[~t]\n",
    "\n",
    "print(*t * 1, sep='')\n",
    "print('Train:', len(train), '/ Test:', len(test), '/ Total:', len(df))"
   ]
  },
  {
   "cell_type": "markdown",
   "metadata": {},
   "source": [
    "## Questão 1\n",
    "\n",
    "#### 1. Considere as colunas $3$ e $4$ ($\\mathrm{carga}$ e $\\mathrm{VO}_{2max}$) dos dados fornecidos. Seja $p(y \\mid x, \\theta) = \\mathcal{N}(y \\mid w^T \\phi(x), \\sigma^2)$ onde $y$ é o $\\mathrm{VO}_{2max}$, $x = \\mathrm{carga}$  e $\\phi(x) = 1, x,..., x^d$. Use regressão linear e ache os parâmetros do modelo."
   ]
  },
  {
   "cell_type": "code",
   "execution_count": 3,
   "metadata": {},
   "outputs": [],
   "source": [
    "import numpy as np\n",
    "\n",
    "def phi(x, d):\n",
    "    v = []\n",
    "    for i in range(d + 1):\n",
    "        v.append(x ** i)\n",
    "    return np.array(v, dtype=float).T\n",
    "\n",
    "def linear_regression(X, y):\n",
    "    XTX     = X.T.dot(X)\n",
    "    XTX_inv = np.linalg.inv(XTX)\n",
    "    XTy     = X.T.dot(y)\n",
    "    theta   = XTX_inv.dot(XTy)\n",
    "    return theta\n",
    "\n",
    "X_train = np.array(train['Carga Final'])\n",
    "y_train = np.array(train['VO2 medido máximo (mL/kg/min)'])"
   ]
  },
  {
   "cell_type": "markdown",
   "metadata": {},
   "source": [
    "- experimente diferentes valores de $d$."
   ]
  },
  {
   "cell_type": "code",
   "execution_count": 4,
   "metadata": {},
   "outputs": [],
   "source": [
    "Ds = [1, 4, 9]\n",
    "    \n",
    "phi1 = phi(X_train, Ds[0])\n",
    "phi2 = phi(X_train, Ds[1])\n",
    "phi3 = phi(X_train, Ds[2])\n",
    "\n",
    "theta1 = linear_regression(phi1, y_train)\n",
    "theta2 = linear_regression(phi2, y_train)\n",
    "theta3 = linear_regression(phi3, y_train)"
   ]
  },
  {
   "cell_type": "markdown",
   "metadata": {},
   "source": [
    "- plote as funções encontradas, junto com os dados de treinamento."
   ]
  },
  {
   "cell_type": "code",
   "execution_count": 5,
   "metadata": {},
   "outputs": [
    {
     "data": {
      "text/plain": [
       "<Figure size 800x550 with 1 Axes>"
      ]
     },
     "metadata": {},
     "output_type": "display_data"
    }
   ],
   "source": [
    "import matplotlib.pyplot as plt # Biblioteca para Plot\n",
    "import seaborn as sns # Biblioteca de Visualização de Dados baseado no Matplotlib\n",
    "plt.style.use('seaborn') # Estilo de gráfico\n",
    "\n",
    "plot_space = np.linspace(min(X_train), max(X_train))\n",
    "    \n",
    "linspace_M1 = phi(plot_space, Ds[0])\n",
    "linspace_M2 = phi(plot_space, Ds[1])\n",
    "linspace_M3 = phi(plot_space, Ds[2])\n",
    "\n",
    "m1_y = linspace_M1.dot(theta1)\n",
    "m2_y = linspace_M2.dot(theta2)\n",
    "m3_y = linspace_M3.dot(theta3)\n",
    "\n",
    "plt.scatter(X_train, y_train, c='k', alpha=0.35)\n",
    "\n",
    "plt.plot(plot_space, m1_y, c='r', label='M1')\n",
    "plt.plot(plot_space, m2_y, c='g', label='M2')\n",
    "plt.plot(plot_space, m3_y, c='b', label='M3')\n",
    "\n",
    "plt.legend()\n",
    "plt.show()"
   ]
  },
  {
   "cell_type": "markdown",
   "metadata": {},
   "source": [
    "- qual é o $NLL(w)$ encontrado em cada caso? Explique."
   ]
  },
  {
   "cell_type": "code",
   "execution_count": 6,
   "metadata": {},
   "outputs": [
    {
     "name": "stdout",
     "output_type": "stream",
     "text": [
      "Erro do Modelo 1 no Treinamento: 24498.262629308374\n",
      "Erro do Modelo 2 no Treinamento: 24443.632046355084\n",
      "Erro do Modelo 3 no Treinamento: 24329.68038561969\n"
     ]
    }
   ],
   "source": [
    "def mse(y_pred, y_true):\n",
    "    return np.sum((y_true - y_pred) ** 2)\n",
    "\n",
    "y_train_pred1 = phi1.dot(theta1)\n",
    "y_train_pred2 = phi2.dot(theta2)\n",
    "y_train_pred3 = phi3.dot(theta3)\n",
    "\n",
    "print('Erro do Modelo 1 no Treinamento:', mse(y_train_pred1, y_train))\n",
    "print('Erro do Modelo 2 no Treinamento:', mse(y_train_pred2, y_train))\n",
    "print('Erro do Modelo 3 no Treinamento:', mse(y_train_pred3, y_train))"
   ]
  },
  {
   "cell_type": "markdown",
   "metadata": {},
   "source": [
    "- compare os valores previstos pelo modelo escolhido com os valores reais dos dados de teste. Você está satisfeito com o modelo escolhido?"
   ]
  },
  {
   "cell_type": "code",
   "execution_count": 7,
   "metadata": {},
   "outputs": [
    {
     "name": "stdout",
     "output_type": "stream",
     "text": [
      "Erro do Modelo 1 no Teste: 4997.450274924202\n",
      "Erro do Modelo 2 no Teste: 4983.830406637204\n",
      "Erro do Modelo 3 no Teste: 5015.566914297271\n"
     ]
    }
   ],
   "source": [
    "X_test = np.array(test['Carga Final'])\n",
    "y_test = np.array(test['VO2 medido máximo (mL/kg/min)'])\n",
    "\n",
    "phi1_test = phi(X_test, Ds[0])\n",
    "phi2_test = phi(X_test, Ds[1])\n",
    "phi3_test = phi(X_test, Ds[2])\n",
    "\n",
    "y_test_pred1 = phi1_test.dot(theta1)\n",
    "y_test_pred2 = phi2_test.dot(theta2)\n",
    "y_test_pred3 = phi3_test.dot(theta3)\n",
    "\n",
    "print('Erro do Modelo 1 no Teste:', mse(y_test_pred1, y_test))\n",
    "print('Erro do Modelo 2 no Teste:', mse(y_test_pred2, y_test))\n",
    "print('Erro do Modelo 3 no Teste:', mse(y_test_pred3, y_test))"
   ]
  },
  {
   "cell_type": "markdown",
   "metadata": {},
   "source": [
    "Durante o treinamento, o Modelo com maior grau polinomial (9) ficou com o cálculo do erro menor. Porém, durante o teste, ele teve o pior desempenho, sendo o modelo linear (grau 1) que teve o melhor desempenho (mesmo tendo o maior erro no teste).\n",
    "\n",
    "Isso se da pelo overfitting, onde, apesar dos outros modelos se adequarem bem ao conjunto de treinamento, não foi capaz de generalizar para o de teste."
   ]
  }
 ],
 "metadata": {
  "kernelspec": {
   "display_name": "Python 3",
   "language": "python",
   "name": "python3"
  },
  "language_info": {
   "codemirror_mode": {
    "name": "ipython",
    "version": 3
   },
   "file_extension": ".py",
   "mimetype": "text/x-python",
   "name": "python",
   "nbconvert_exporter": "python",
   "pygments_lexer": "ipython3",
   "version": "3.7.0"
  }
 },
 "nbformat": 4,
 "nbformat_minor": 2
}

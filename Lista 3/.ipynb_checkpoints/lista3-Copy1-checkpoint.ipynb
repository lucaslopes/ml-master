{
 "cells": [
  {
   "cell_type": "markdown",
   "metadata": {},
   "source": [
    "# Machine Learning 2018.3\n",
    "> - **Lista 3**\n",
    "- **Lucas Lopes Felipe** - *Pós PPGI*\n",
    "- **Turma**: *CPS-863 / COS-623 / MAB-608*\n",
    "- **Professores**: Edmundo, Daniel S. Menascé e Rosa Leão"
   ]
  },
  {
   "cell_type": "markdown",
   "metadata": {},
   "source": [
    "## Base de Dados\n",
    "\n",
    "> As características dos dados fornecidos são: idade do paciente, peso (kg), carga final (watts) e VO$_2$ máximo (mg/Kg/min). Fornecemos um ($1$) arquivo com dados de $1.172$ pacientes coletados pelo Professor e sua equipe: *Dados-medicos.csv*."
   ]
  },
  {
   "cell_type": "code",
   "execution_count": 50,
   "metadata": {},
   "outputs": [
    {
     "data": {
      "text/html": [
       "<div>\n",
       "<style scoped>\n",
       "    .dataframe tbody tr th:only-of-type {\n",
       "        vertical-align: middle;\n",
       "    }\n",
       "\n",
       "    .dataframe tbody tr th {\n",
       "        vertical-align: top;\n",
       "    }\n",
       "\n",
       "    .dataframe thead th {\n",
       "        text-align: right;\n",
       "    }\n",
       "</style>\n",
       "<table border=\"1\" class=\"dataframe\">\n",
       "  <thead>\n",
       "    <tr style=\"text-align: right;\">\n",
       "      <th></th>\n",
       "      <th>Idade (anos)</th>\n",
       "      <th>Peso (kg)</th>\n",
       "      <th>Carga Final</th>\n",
       "      <th>VO2 medido máximo (mL/kg/min)</th>\n",
       "    </tr>\n",
       "  </thead>\n",
       "  <tbody>\n",
       "    <tr>\n",
       "      <th>0</th>\n",
       "      <td>49</td>\n",
       "      <td>79.1</td>\n",
       "      <td>250.0</td>\n",
       "      <td>49.051833</td>\n",
       "    </tr>\n",
       "    <tr>\n",
       "      <th>1</th>\n",
       "      <td>30</td>\n",
       "      <td>52.4</td>\n",
       "      <td>177.0</td>\n",
       "      <td>41.603053</td>\n",
       "    </tr>\n",
       "    <tr>\n",
       "      <th>2</th>\n",
       "      <td>56</td>\n",
       "      <td>65.8</td>\n",
       "      <td>140.0</td>\n",
       "      <td>32.674772</td>\n",
       "    </tr>\n",
       "    <tr>\n",
       "      <th>3</th>\n",
       "      <td>29</td>\n",
       "      <td>78.0</td>\n",
       "      <td>400.0</td>\n",
       "      <td>59.102564</td>\n",
       "    </tr>\n",
       "    <tr>\n",
       "      <th>4</th>\n",
       "      <td>49</td>\n",
       "      <td>69.2</td>\n",
       "      <td>242.0</td>\n",
       "      <td>48.410405</td>\n",
       "    </tr>\n",
       "  </tbody>\n",
       "</table>\n",
       "</div>"
      ],
      "text/plain": [
       "   Idade (anos)  Peso (kg)  Carga Final  VO2 medido máximo (mL/kg/min)\n",
       "0            49       79.1        250.0                      49.051833\n",
       "1            30       52.4        177.0                      41.603053\n",
       "2            56       65.8        140.0                      32.674772\n",
       "3            29       78.0        400.0                      59.102564\n",
       "4            49       69.2        242.0                      48.410405"
      ]
     },
     "execution_count": 50,
     "metadata": {},
     "output_type": "execute_result"
    }
   ],
   "source": [
    "import pandas as pd\n",
    "df = pd.read_csv('./data/Dados-medicos.txt', sep=\" \")\n",
    "df.head()"
   ]
  },
  {
   "cell_type": "markdown",
   "metadata": {},
   "source": [
    "> Antes de fazer as questões Você deve escolher **aleatoriamente** um subconjunto de 1.000 amostras para treinar os modelos e as 172 restantes serão usados para testar o modelo. Indique, no início do seu relatório, o vetor de índice das amostra escolhidas para treinamento e para teste. (Por exemplo: vetor de treinamento $t = \\langle 1, 0, 0, 1, 1, 1, 0, . . .\\rangle$, onde $t(i) = 1$ se a i-ésima amostra foi escolhida para treinamento, e $t(i) = 0$ para teste."
   ]
  },
  {
   "cell_type": "code",
   "execution_count": 91,
   "metadata": {},
   "outputs": [
    {
     "name": "stdout",
     "output_type": "stream",
     "text": [
      "11110110111111111111110011101111111101111001111100110011110111111001111111111111011101111111111111000100101101111100111101111111111111011111111111110110111111111111011101110111111111111111111111101111111011111110111111111111111110111111111111111111111111111111111101111111111111111111111111011111111111111111011111001110111111101101111111111101111111101111111001111111111110111111111111111111110111101111110111110111111111111111111010001011111111011111111111011110010011111111111010111001110111011111111111111111110111111111111111111111110001111111010111111111101111011111011111110010111111111111011111111111111101111111111111111111101111111101110011111111011111111001110111101111111111111110001111111111110011111101110111101110110111100110110111111110011101111111110101011111111111111111111110110011111111111101111111111111111111101011101111111100101111010111111111011111111111110111101101010111111111111010111011111111111111111111111111111111111100111111111111110111111111111110011111101111100010011111110011111111111111011111001111111111011111111111111111111100111011111111101111011111011110111111111111011011111111110101101111111111111011010011111110111111111110100111\n",
      "Train: 1000 / Test: 172 / Total: 1172\n"
     ]
    }
   ],
   "source": [
    "import numpy as np\n",
    "\n",
    "def filter(total, test):\n",
    "    t = np.ones(total, dtype=int)\n",
    "    i = test\n",
    "    while i > 0:\n",
    "        pos = np.random.randint(total)\n",
    "        if t[pos] == 1:\n",
    "            t[pos] = 0\n",
    "            i -= 1\n",
    "    return (t == 1)\n",
    "\n",
    "t = filter(1172, 172)    \n",
    "train = df[t]\n",
    "test  = df[~t]\n",
    "\n",
    "print(*t * 1, sep='')\n",
    "print('Train:', len(train), '/ Test:', len(test), '/ Total:', len(df))"
   ]
  },
  {
   "cell_type": "markdown",
   "metadata": {},
   "source": [
    "## Questão 1\n",
    "\n",
    "#### 1. Considere as colunas $3$ e $4$ ($\\mathrm{carga}$ e $\\mathrm{VO}_{2max}$) dos dados fornecidos. Seja $p(y \\mid x, \\theta) = \\mathcal{N}(y \\mid w^T \\phi(x), \\sigma^2)$ onde $y$ é o $\\mathrm{VO}_{2max}$, $x = \\mathrm{carga}$  e $\\phi(x) = 1, x,..., x^d$. Use regressão linear e ache os parâmetros do modelo."
   ]
  },
  {
   "cell_type": "code",
   "execution_count": 52,
   "metadata": {},
   "outputs": [],
   "source": [
    "import numpy as np\n",
    "\n",
    "def phi(x, d):\n",
    "    v = []\n",
    "    for i in range(d + 1):\n",
    "        v.append(x ** i)\n",
    "    return np.array(v, dtype=float).T\n",
    "\n",
    "def linear_regression(X, y):\n",
    "    XTX     = X.T.dot(X)\n",
    "    XTX_inv = np.linalg.inv(XTX)\n",
    "    XTy     = X.T.dot(y)\n",
    "    theta   = XTX_inv.dot(XTy)\n",
    "    return theta\n",
    "\n",
    "X_train = np.array(train['Carga Final'])\n",
    "y_train = np.array(train['VO2 medido máximo (mL/kg/min)'])"
   ]
  },
  {
   "cell_type": "markdown",
   "metadata": {},
   "source": [
    "- experimente diferentes valores de $d$."
   ]
  },
  {
   "cell_type": "code",
   "execution_count": 53,
   "metadata": {},
   "outputs": [],
   "source": [
    "Ds = [1, 4, 9]\n",
    "    \n",
    "phi1 = phi(X_train, Ds[0])\n",
    "phi2 = phi(X_train, Ds[1])\n",
    "phi3 = phi(X_train, Ds[2])\n",
    "\n",
    "theta1 = linear_regression(phi1, y_train)\n",
    "theta2 = linear_regression(phi2, y_train)\n",
    "theta3 = linear_regression(phi3, y_train)"
   ]
  },
  {
   "cell_type": "markdown",
   "metadata": {},
   "source": [
    "- plote as funções encontradas, junto com os dados de treinamento."
   ]
  },
  {
   "cell_type": "code",
   "execution_count": 80,
   "metadata": {},
   "outputs": [
    {
     "data": {
      "image/png": "[encoded data removed]",
      "text/plain": [
       "<Figure size 576x396 with 1 Axes>"
      ]
     },
     "metadata": {},
     "output_type": "display_data"
    }
   ],
   "source": [
    "import matplotlib.pyplot as plt # Biblioteca para Plot\n",
    "import seaborn as sns # Biblioteca de Visualização de Dados baseado no Matplotlib\n",
    "plt.style.use('seaborn') # Estilo de gráfico\n",
    "\n",
    "plot_space = np.linspace(min(X_train), max(X_train))\n",
    "    \n",
    "linspace_M1 = phi(plot_space, Ds[0])\n",
    "linspace_M2 = phi(plot_space, Ds[1])\n",
    "linspace_M3 = phi(plot_space, Ds[2])\n",
    "\n",
    "m1_y = linspace_M1.dot(theta1)\n",
    "m2_y = linspace_M2.dot(theta2)\n",
    "m3_y = linspace_M3.dot(theta3)\n",
    "\n",
    "plt.scatter(X_train, y_train, c='b')\n",
    "\n",
    "plt.plot(plot_space, m1_y, c='g', label='M1')\n",
    "plt.plot(plot_space, m2_y, c='y', label='M2')\n",
    "plt.plot(plot_space, m3_y, c='r', label='M3')\n",
    "\n",
    "plt.legend()\n",
    "plt.show()"
   ]
  },
  {
   "cell_type": "markdown",
   "metadata": {},
   "source": [
    "- qual é o $NLL(w)$ encontrado em cada caso? Explique."
   ]
  },
  {
   "cell_type": "code",
   "execution_count": 83,
   "metadata": {},
   "outputs": [
    {
     "name": "stdout",
     "output_type": "stream",
     "text": [
      "Erro do Modelo 1 no Treinamento: 24195.104881787654\n",
      "Erro do Modelo 2 no Treinamento: 24115.967156992923\n",
      "Erro do Modelo 3 no Treinamento: 23959.492031426114\n"
     ]
    }
   ],
   "source": [
    "def mse(y_pred, y_true):\n",
    "    return np.sum((y_true - y_pred) ** 2)\n",
    "\n",
    "y_train_pred1 = phi1.dot(theta1)\n",
    "y_train_pred2 = phi2.dot(theta2)\n",
    "y_train_pred3 = phi3.dot(theta3)\n",
    "\n",
    "print('Erro do Modelo 1 no Treinamento:', mse(y_train_pred1, y_train))\n",
    "print('Erro do Modelo 2 no Treinamento:', mse(y_train_pred2, y_train))\n",
    "print('Erro do Modelo 3 no Treinamento:', mse(y_train_pred3, y_train))"
   ]
  },
  {
   "cell_type": "markdown",
   "metadata": {},
   "source": [
    "- compare os valores previstos pelo modelo escolhido com os valores reais dos dados de teste. Você está satisfeito com o modelo escolhido?"
   ]
  },
  {
   "cell_type": "code",
   "execution_count": 86,
   "metadata": {},
   "outputs": [
    {
     "name": "stdout",
     "output_type": "stream",
     "text": [
      "Erro do Modelo 1 no Teste: 5309.702222743414\n",
      "Erro do Modelo 2 no Teste: 5328.5709373297705\n",
      "Erro do Modelo 3 no Teste: 5371.051269249498\n"
     ]
    }
   ],
   "source": [
    "X_test = np.array(test['Carga Final'])\n",
    "y_test = np.array(test['VO2 medido máximo (mL/kg/min)'])\n",
    "\n",
    "phi1_test = phi(X_test, Ds[0])\n",
    "phi2_test = phi(X_test, Ds[1])\n",
    "phi3_test = phi(X_test, Ds[2])\n",
    "\n",
    "y_test_pred1 = phi1_test.dot(theta1)\n",
    "y_test_pred2 = phi2_test.dot(theta2)\n",
    "y_test_pred3 = phi3_test.dot(theta3)\n",
    "\n",
    "print('Erro do Modelo 1 no Teste:', mse(y_test_pred1, y_test))\n",
    "print('Erro do Modelo 2 no Teste:', mse(y_test_pred2, y_test))\n",
    "print('Erro do Modelo 3 no Teste:', mse(y_test_pred3, y_test))"
   ]
  },
  {
   "cell_type": "markdown",
   "metadata": {},
   "source": [
    "Durante o treinamento, o Modelo com maior grau polinomial (9) ficou com o cálculo do erro menor. Porém, durante o teste, ele teve o pior desempenho, sendo o modelo linear (grau 1) que teve o melhor desempenho (mesmo tendo o maior erro no teste).\n",
    "\n",
    "Isso se da pelo overfitting, onde, apesar dos outros modelos se adequarem bem ao conjunto de treinamento, não foi capaz de generalizar para o de teste."
   ]
  },
  {
   "cell_type": "markdown",
   "metadata": {},
   "source": [
    "#### 2. Repita o item anterior considerando as colunas 2, 3 e 4 (peso, carga e VO$_{2max}$)."
   ]
  },
  {
   "cell_type": "code",
   "execution_count": 70,
   "metadata": {},
   "outputs": [
    {
     "ename": "ValueError",
     "evalue": "shapes (2,1000,2) and (2,1000,2) not aligned: 2 (dim 2) != 1000 (dim 1)",
     "output_type": "error",
     "traceback": [
      "\u001b[0;31m---------------------------------------------------------------------------\u001b[0m",
      "\u001b[0;31mValueError\u001b[0m                                Traceback (most recent call last)",
      "\u001b[0;32m<ipython-input-70-0600a20983f0>\u001b[0m in \u001b[0;36m<module>\u001b[0;34m()\u001b[0m\n\u001b[1;32m      5\u001b[0m \u001b[0mphi3_2\u001b[0m \u001b[0;34m=\u001b[0m \u001b[0mphi\u001b[0m\u001b[0;34m(\u001b[0m\u001b[0mX_train_2\u001b[0m\u001b[0;34m,\u001b[0m \u001b[0mDs\u001b[0m\u001b[0;34m[\u001b[0m\u001b[0;36m2\u001b[0m\u001b[0;34m]\u001b[0m\u001b[0;34m)\u001b[0m\u001b[0;34m\u001b[0m\u001b[0m\n\u001b[1;32m      6\u001b[0m \u001b[0;34m\u001b[0m\u001b[0m\n\u001b[0;32m----> 7\u001b[0;31m \u001b[0mtheta1_2\u001b[0m \u001b[0;34m=\u001b[0m \u001b[0mlinear_regression\u001b[0m\u001b[0;34m(\u001b[0m\u001b[0mphi1_2\u001b[0m\u001b[0;34m,\u001b[0m \u001b[0my_train\u001b[0m\u001b[0;34m)\u001b[0m\u001b[0;34m\u001b[0m\u001b[0m\n\u001b[0m\u001b[1;32m      8\u001b[0m \u001b[0mtheta2_2\u001b[0m \u001b[0;34m=\u001b[0m \u001b[0mlinear_regression\u001b[0m\u001b[0;34m(\u001b[0m\u001b[0mphi2_2\u001b[0m\u001b[0;34m,\u001b[0m \u001b[0my_train\u001b[0m\u001b[0;34m)\u001b[0m\u001b[0;34m\u001b[0m\u001b[0m\n\u001b[1;32m      9\u001b[0m \u001b[0mtheta3_2\u001b[0m \u001b[0;34m=\u001b[0m \u001b[0mlinear_regression\u001b[0m\u001b[0;34m(\u001b[0m\u001b[0mphi3_2\u001b[0m\u001b[0;34m,\u001b[0m \u001b[0my_train\u001b[0m\u001b[0;34m)\u001b[0m\u001b[0;34m\u001b[0m\u001b[0m\n",
      "\u001b[0;32m<ipython-input-52-572a1e03edc2>\u001b[0m in \u001b[0;36mlinear_regression\u001b[0;34m(X, y)\u001b[0m\n\u001b[1;32m      8\u001b[0m \u001b[0;34m\u001b[0m\u001b[0m\n\u001b[1;32m      9\u001b[0m \u001b[0;32mdef\u001b[0m \u001b[0mlinear_regression\u001b[0m\u001b[0;34m(\u001b[0m\u001b[0mX\u001b[0m\u001b[0;34m,\u001b[0m \u001b[0my\u001b[0m\u001b[0;34m)\u001b[0m\u001b[0;34m:\u001b[0m\u001b[0;34m\u001b[0m\u001b[0m\n\u001b[0;32m---> 10\u001b[0;31m     \u001b[0mXTX\u001b[0m     \u001b[0;34m=\u001b[0m \u001b[0mX\u001b[0m\u001b[0;34m.\u001b[0m\u001b[0mT\u001b[0m\u001b[0;34m.\u001b[0m\u001b[0mdot\u001b[0m\u001b[0;34m(\u001b[0m\u001b[0mX\u001b[0m\u001b[0;34m)\u001b[0m\u001b[0;34m\u001b[0m\u001b[0m\n\u001b[0m\u001b[1;32m     11\u001b[0m     \u001b[0mXTX_inv\u001b[0m \u001b[0;34m=\u001b[0m \u001b[0mnp\u001b[0m\u001b[0;34m.\u001b[0m\u001b[0mlinalg\u001b[0m\u001b[0;34m.\u001b[0m\u001b[0minv\u001b[0m\u001b[0;34m(\u001b[0m\u001b[0mXTX\u001b[0m\u001b[0;34m)\u001b[0m\u001b[0;34m\u001b[0m\u001b[0m\n\u001b[1;32m     12\u001b[0m     \u001b[0mXTy\u001b[0m     \u001b[0;34m=\u001b[0m \u001b[0mX\u001b[0m\u001b[0;34m.\u001b[0m\u001b[0mT\u001b[0m\u001b[0;34m.\u001b[0m\u001b[0mdot\u001b[0m\u001b[0;34m(\u001b[0m\u001b[0my\u001b[0m\u001b[0;34m)\u001b[0m\u001b[0;34m\u001b[0m\u001b[0m\n",
      "\u001b[0;31mValueError\u001b[0m: shapes (2,1000,2) and (2,1000,2) not aligned: 2 (dim 2) != 1000 (dim 1)"
     ]
    }
   ],
   "source": [
    "X_train_2 = np.array(train[['Peso (kg)', 'Carga Final']])\n",
    "    \n",
    "phi1_2 = phi(X_train_2, Ds[0])\n",
    "phi2_2 = phi(X_train_2, Ds[1])\n",
    "phi3_2 = phi(X_train_2, Ds[2])\n",
    "\n",
    "theta1_2 = linear_regression(phi1_2, y_train)\n",
    "theta2_2 = linear_regression(phi2_2, y_train)\n",
    "theta3_2 = linear_regression(phi3_2, y_train)\n",
    "\n",
    "linspace_M1_2 = phi(plot_space, Ds[0])\n",
    "linspace_M2_2 = phi(plot_space, Ds[1])\n",
    "linspace_M3_2 = phi(plot_space, Ds[2])\n",
    "\n",
    "m1_2_y = linspace_M1.dot(theta1)\n",
    "m2_2_y = linspace_M2.dot(theta2)\n",
    "m3_2_y = linspace_M3.dot(theta3)\n",
    "\n",
    "plt.scatter(X_train_2, y_train, c='b')\n",
    " \n",
    "plt.plot(plot_space, m1_y, c='g', label='M1')\n",
    "plt.plot(plot_space, m2_y, c='y', label='M2')\n",
    "plt.plot(plot_space, m3_y, c='r', label='M3')\n",
    "\n",
    "plt.legend()\n",
    "plt.show()"
   ]
  },
  {
   "cell_type": "markdown",
   "metadata": {},
   "source": [
    "#### 3. Repita o item anterior considerando as colunas 1, 2, 3 e 4 (idade, peso, carga e VO$_{2max}$)."
   ]
  },
  {
   "cell_type": "code",
   "execution_count": 69,
   "metadata": {},
   "outputs": [],
   "source": [
    "X_train_3 = np.array(train[['Idade (anos)', 'Peso (kg)', 'Carga Final']])\n",
    "\n",
    "phi1_3 = phi(X_train_3, Ds[0])\n",
    "phi2_3 = phi(X_train_3, Ds[1])\n",
    "phi3_3 = phi(X_train_3, Ds[2])\n",
    "\n",
    "theta1_3 = linear_regression(phi1_3, y_train)\n",
    "theta2_3 = linear_regression(phi2_3, y_train)\n",
    "theta3_3 = linear_regression(phi3_3, y_train)"
   ]
  },
  {
   "cell_type": "markdown",
   "metadata": {},
   "source": [
    "- Você acha que alguma das variáveis é menos importante para se estimar o VO$_{2max}$? Ou todas são importantes? Explique."
   ]
  },
  {
   "cell_type": "code",
   "execution_count": null,
   "metadata": {},
   "outputs": [],
   "source": []
  },
  {
   "cell_type": "markdown",
   "metadata": {},
   "source": [
    "#### 4. O VO$_{2max}$ pode ser estimado pela seguinte equação de acordo com o _American College of Sports Medicine_: VO$_{2max} \\approx (W \\times 11.4 + 260 + peso \\times 3, 5) \\, / \\, peso$, onde $W$ é a carga máxima em watts, o peso corporal é em kg e a constante de 260 mL/min indica o volume de oxigênio correspondente ao gasto energético necessário para mover os pedais do teste de esforço sem qualquer resistência adicionada.\n",
    "\n",
    "- Compare essa equação com a do modelo que você obteve considerando carga e peso."
   ]
  },
  {
   "cell_type": "code",
   "execution_count": null,
   "metadata": {},
   "outputs": [],
   "source": []
  },
  {
   "cell_type": "markdown",
   "metadata": {},
   "source": [
    "- Qual a vantagem que você obteve (se existe alguma) com a equação considerando a idade? Exemplifique."
   ]
  },
  {
   "cell_type": "code",
   "execution_count": null,
   "metadata": {},
   "outputs": [],
   "source": []
  },
  {
   "cell_type": "markdown",
   "metadata": {},
   "source": [
    "## Questão 2\n",
    "> Considere agora que o modelo a ser usado é uma Gaussiana multivariada.\n",
    "\n",
    "#### 1. Use as colunas 2, 4 (carga e VO$_{2max}$). Neste caso $x$ é bidimensional.\n",
    "- Ache os parâmetros da Gaussiana."
   ]
  },
  {
   "cell_type": "code",
   "execution_count": null,
   "metadata": {},
   "outputs": [],
   "source": []
  },
  {
   "cell_type": "markdown",
   "metadata": {},
   "source": [
    "- Plote os resultados. Os seu gráfico deve ser semelhante (na ideia) ao da Figura $7.1$ (Murphy)."
   ]
  },
  {
   "cell_type": "code",
   "execution_count": null,
   "metadata": {},
   "outputs": [],
   "source": []
  },
  {
   "cell_type": "markdown",
   "metadata": {},
   "source": [
    "#### 2. Use as colunas 2, 3 e 4 (peso, carga e VO$_{2max}$).\n",
    "- Ache os parâmetros da Gaussiana."
   ]
  },
  {
   "cell_type": "code",
   "execution_count": null,
   "metadata": {},
   "outputs": [],
   "source": []
  },
  {
   "cell_type": "markdown",
   "metadata": {},
   "source": [
    "- Escolha 3 valores de peso e carga e estime o VO$_{2max}$ (como a variável VO$_{2max}$ é contínua, explique como você faria essa estimativa)."
   ]
  },
  {
   "cell_type": "code",
   "execution_count": null,
   "metadata": {},
   "outputs": [],
   "source": []
  },
  {
   "cell_type": "markdown",
   "metadata": {},
   "source": [
    "- Compare com os resultados da equação do _American College of Sports Medicine_ com os resultados deste modelo e da questão anterior. Explique."
   ]
  },
  {
   "cell_type": "code",
   "execution_count": null,
   "metadata": {},
   "outputs": [],
   "source": []
  },
  {
   "cell_type": "markdown",
   "metadata": {},
   "source": [
    "#### 3. Use toda a informação dada, isto é, colunas 1, 2, 3 e 4 (idade, peso, carga e VO$_{2max}$), ache os parâmetros do modelo, explicando o que foi feito para achar os parâmetros. Nota: “o que foi feito” não significa “incluir código” na resposta, mas sim mostrar que você conhece os passos para se obter a solução."
   ]
  },
  {
   "cell_type": "code",
   "execution_count": null,
   "metadata": {},
   "outputs": [],
   "source": []
  },
  {
   "cell_type": "markdown",
   "metadata": {},
   "source": [
    "- Esse seu modelo faz uma melhor ou pior previsão dos dados do teste?"
   ]
  },
  {
   "cell_type": "code",
   "execution_count": null,
   "metadata": {},
   "outputs": [],
   "source": []
  },
  {
   "cell_type": "markdown",
   "metadata": {},
   "source": [
    "- Compare o que você pode prever com esse e o modelo da questão anterior."
   ]
  },
  {
   "cell_type": "code",
   "execution_count": null,
   "metadata": {},
   "outputs": [],
   "source": []
  },
  {
   "cell_type": "markdown",
   "metadata": {},
   "source": [
    "## Questão 3\n",
    "\n",
    "#### 1. Suponha que você quer obter modelos para 3 faixas de idade: $ id_1 = [18 - 40), id_2 = [40 - 60), id_3 \\geq 60$.\n",
    "- Construa 3 modelos Gaussianos diferentes (multivariados)."
   ]
  },
  {
   "cell_type": "code",
   "execution_count": null,
   "metadata": {},
   "outputs": [],
   "source": []
  },
  {
   "cell_type": "markdown",
   "metadata": {},
   "source": [
    "- Comente as diferenças entre os modelos, se houver, com o objetivo de prever o VO$_{2max}$)."
   ]
  },
  {
   "cell_type": "code",
   "execution_count": null,
   "metadata": {},
   "outputs": [],
   "source": []
  },
  {
   "cell_type": "markdown",
   "metadata": {},
   "source": [
    "#### 2. Suponha que o nosso objetivo é classificar os dados em uma das 3 faixas de idades do item anterior $ id_1 = [18 - 40), id_2 = [40 - 60), id_3 \\geq 60 $. Mostre (explique) como você irá construir um _Naive Bayes Classifier_ baseado no modelo Gaussiano, isto é, para uma _feature_ $j$ e faixa de idade $c$:\n",
    "\n",
    "$$p(x_j \\mid h = c, \\theta_{jc}) = \\mathcal{N}(x_j \\mid y = c, \\mu_{jc},\\sigma^2_{jc})$$\n",
    "\n",
    "#### como visto em classe. Comece escrevendo uma expressão para $p(x_i, y_i = c_j \\mid \\theta)$, onde $x_i$ é o vetor de features (no caso, peso, carga e VO$_{2max}$) e a classe é a idade."
   ]
  },
  {
   "cell_type": "code",
   "execution_count": null,
   "metadata": {},
   "outputs": [],
   "source": []
  },
  {
   "cell_type": "markdown",
   "metadata": {},
   "source": [
    "#### 3. Quais a suposição básica feita para um _Naive Bayes Classifier_?"
   ]
  },
  {
   "cell_type": "code",
   "execution_count": null,
   "metadata": {},
   "outputs": [],
   "source": []
  },
  {
   "cell_type": "markdown",
   "metadata": {},
   "source": [
    "- Essa suposição é feita no caso do modelo Gaussiano multivariado da Questão 2?"
   ]
  },
  {
   "cell_type": "code",
   "execution_count": null,
   "metadata": {},
   "outputs": [],
   "source": []
  },
  {
   "cell_type": "markdown",
   "metadata": {},
   "source": [
    "#### 4. Mostre como calcular os parâmetros do modelo _Naive Bayes Classifier_. É parte da questão obter o MLE, o que vai permitir obter os parâmetros do seu modelo."
   ]
  },
  {
   "cell_type": "code",
   "execution_count": null,
   "metadata": {},
   "outputs": [],
   "source": []
  },
  {
   "cell_type": "markdown",
   "metadata": {},
   "source": [
    "#### 5. Construa um _Naive Bayes Classifier_ com 3 classes de idade conforme acima, e treine o seu modelo com 1000 amostras escolhidas aleatoriamente dos dados desta lista."
   ]
  },
  {
   "cell_type": "code",
   "execution_count": null,
   "metadata": {},
   "outputs": [],
   "source": []
  },
  {
   "cell_type": "markdown",
   "metadata": {},
   "source": [
    "- Você consegue prever adequadamente a faixa etária do restante dos dados? Caso positivo, Como?"
   ]
  },
  {
   "cell_type": "code",
   "execution_count": null,
   "metadata": {},
   "outputs": [],
   "source": []
  },
  {
   "cell_type": "markdown",
   "metadata": {},
   "source": [
    "#### 6. Você conseguiria prever adequadamente a faixa etária, usando os 3 modelos Gaussianos construídos no início da questão? Sim? Não? Comente."
   ]
  },
  {
   "cell_type": "code",
   "execution_count": null,
   "metadata": {},
   "outputs": [],
   "source": []
  },
  {
   "cell_type": "markdown",
   "metadata": {},
   "source": [
    "####  7. Você consegue prever a faixa etária dos dados de teste usando o seu modelo Gaussiano da questão 2 construído com todas as _features_? Sim? Não? Comente."
   ]
  },
  {
   "cell_type": "code",
   "execution_count": null,
   "metadata": {},
   "outputs": [],
   "source": []
  },
  {
   "cell_type": "markdown",
   "metadata": {},
   "source": [
    "## Questão 4\n",
    "> O objetivo desta questão é usar construir um modelos supervisionado com uma mistura de 3 Gaussianas, usando os dados do problema.\n",
    "\n",
    "#### 1. Neste modelo, todas as variáveis são observadas. Considere que os dados são da forma $\\langle x_i, z_i \\rangle$ onde $x_i$ tem dimensão 3 (peso, carga, VO$_{2max}$) e $z_i$ é uma das 3 faixas de idade $ id_1 = [18 - 40), id_2 = [40 - 60), id_3 \\geq 60$."
   ]
  },
  {
   "cell_type": "code",
   "execution_count": null,
   "metadata": {},
   "outputs": [],
   "source": []
  },
  {
   "cell_type": "markdown",
   "metadata": {},
   "source": [
    "#### 2. Explique, em linhas gerais, os passos feitos para encontrar os parâmetros do modelo. Como anteriormente, escolha o conjunto de treinamento de 1000 dados e outro para testes."
   ]
  },
  {
   "cell_type": "code",
   "execution_count": null,
   "metadata": {},
   "outputs": [],
   "source": []
  },
  {
   "cell_type": "markdown",
   "metadata": {},
   "source": [
    "#### 3. Para cada um das amostras $i$ de teste, estime a probabilidade de se obter o VO$_{2max}$. (Como as variável VO$_{2max}$ é contínua, explique como você faria essa estimativa.)"
   ]
  },
  {
   "cell_type": "code",
   "execution_count": null,
   "metadata": {},
   "outputs": [],
   "source": []
  },
  {
   "cell_type": "markdown",
   "metadata": {},
   "source": [
    "#### 4. Compare o modelo obtido nesta questão com o modelo obtido na questão anterior. É parte da questão justificar sua escolha de como comparar os resultados/modelos."
   ]
  },
  {
   "cell_type": "code",
   "execution_count": null,
   "metadata": {},
   "outputs": [],
   "source": []
  },
  {
   "cell_type": "markdown",
   "metadata": {},
   "source": [
    "#### 5. Tanto o modelo _Naive Bayes_ como o modelo de mistura de Gaussianas são generativos. A partir do melhor modelo obtido, explique como gerar e gere um conjunto de 10 valores de VO$_{2max}$, de um determinado conjunto de _features_ escolhidas de um dos dados de teste."
   ]
  },
  {
   "cell_type": "code",
   "execution_count": null,
   "metadata": {},
   "outputs": [],
   "source": []
  },
  {
   "cell_type": "markdown",
   "metadata": {},
   "source": [
    "- Compare os 10 valores gerados com o valor de VO$_{2max}$ do dado de teste escolhido."
   ]
  },
  {
   "cell_type": "code",
   "execution_count": null,
   "metadata": {},
   "outputs": [],
   "source": []
  }
 ],
 "metadata": {
  "kernelspec": {
   "display_name": "Python 3",
   "language": "python",
   "name": "python3"
  },
  "language_info": {
   "codemirror_mode": {
    "name": "ipython",
    "version": 3
   },
   "file_extension": ".py",
   "mimetype": "text/x-python",
   "name": "python",
   "nbconvert_exporter": "python",
   "pygments_lexer": "ipython3",
   "version": "3.7.0"
  }
 },
 "nbformat": 4,
 "nbformat_minor": 2
}

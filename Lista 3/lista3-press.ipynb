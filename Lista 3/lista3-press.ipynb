{
 "cells": [
  {
   "cell_type": "markdown",
   "metadata": {},
   "source": [
    "# Machine Learning 2018.3\n",
    "> - **Lista 3**\n",
    "- **Lucas Lopes Felipe** - *PPGI*\n",
    "- **Turma**: *CPS-863 / COS-623 / MAB-608*\n",
    "- **Professores**: Edmundo, Daniel S. Menascé e Rosa Leão"
   ]
  },
  {
   "cell_type": "markdown",
   "metadata": {},
   "source": [
    "## Base de Dados\n",
    "\n",
    "> As características dos dados fornecidos são: idade do paciente, peso (kg), carga final (watts) e VO$_2$ máximo (mg/Kg/min). Fornecemos um ($1$) arquivo com dados de $1.172$ pacientes coletados pelo Professor e sua equipe: *Dados-medicos.csv*."
   ]
  },
  {
   "cell_type": "code",
   "execution_count": 1,
   "metadata": {},
   "outputs": [
    {
     "data": {
      "text/html": [
       "<div>\n",
       "<style scoped>\n",
       "    .dataframe tbody tr th:only-of-type {\n",
       "        vertical-align: middle;\n",
       "    }\n",
       "\n",
       "    .dataframe tbody tr th {\n",
       "        vertical-align: top;\n",
       "    }\n",
       "\n",
       "    .dataframe thead th {\n",
       "        text-align: right;\n",
       "    }\n",
       "</style>\n",
       "<table border=\"1\" class=\"dataframe\">\n",
       "  <thead>\n",
       "    <tr style=\"text-align: right;\">\n",
       "      <th></th>\n",
       "      <th>Idade (anos)</th>\n",
       "      <th>Peso (kg)</th>\n",
       "      <th>Carga Final</th>\n",
       "      <th>VO2 medido máximo (mL/kg/min)</th>\n",
       "    </tr>\n",
       "  </thead>\n",
       "  <tbody>\n",
       "    <tr>\n",
       "      <th>0</th>\n",
       "      <td>49</td>\n",
       "      <td>79.1</td>\n",
       "      <td>250.0</td>\n",
       "      <td>49.051833</td>\n",
       "    </tr>\n",
       "    <tr>\n",
       "      <th>1</th>\n",
       "      <td>30</td>\n",
       "      <td>52.4</td>\n",
       "      <td>177.0</td>\n",
       "      <td>41.603053</td>\n",
       "    </tr>\n",
       "    <tr>\n",
       "      <th>2</th>\n",
       "      <td>56</td>\n",
       "      <td>65.8</td>\n",
       "      <td>140.0</td>\n",
       "      <td>32.674772</td>\n",
       "    </tr>\n",
       "    <tr>\n",
       "      <th>3</th>\n",
       "      <td>29</td>\n",
       "      <td>78.0</td>\n",
       "      <td>400.0</td>\n",
       "      <td>59.102564</td>\n",
       "    </tr>\n",
       "    <tr>\n",
       "      <th>4</th>\n",
       "      <td>49</td>\n",
       "      <td>69.2</td>\n",
       "      <td>242.0</td>\n",
       "      <td>48.410405</td>\n",
       "    </tr>\n",
       "  </tbody>\n",
       "</table>\n",
       "</div>"
      ],
      "text/plain": [
       "   Idade (anos)  Peso (kg)  Carga Final  VO2 medido máximo (mL/kg/min)\n",
       "0            49       79.1        250.0                      49.051833\n",
       "1            30       52.4        177.0                      41.603053\n",
       "2            56       65.8        140.0                      32.674772\n",
       "3            29       78.0        400.0                      59.102564\n",
       "4            49       69.2        242.0                      48.410405"
      ]
     },
     "execution_count": 1,
     "metadata": {},
     "output_type": "execute_result"
    }
   ],
   "source": [
    "import pandas as pd\n",
    "df = pd.read_csv('./data/Dados-medicos.txt', sep=\" \")\n",
    "df.head()"
   ]
  },
  {
   "cell_type": "markdown",
   "metadata": {},
   "source": [
    "> Antes de fazer as questões Você deve escolher **aleatoriamente** um subconjunto de 1.000 amostras para treinar os modelos e as 172 restantes serão usados para testar o modelo. Indique, no início do seu relatório, o vetor de índice das amostra escolhidas para treinamento e para teste. (Por exemplo: vetor de treinamento $t = \\langle 1, 0, 0, 1, 1, 1, 0, . . .\\rangle$, onde $t(i) = 1$ se a i-ésima amostra foi escolhida para treinamento, e $t(i) = 0$ para teste."
   ]
  },
  {
   "cell_type": "code",
   "execution_count": 11,
   "metadata": {},
   "outputs": [
    {
     "name": "stdout",
     "output_type": "stream",
     "text": [
      "Train: 1000 / Test: 172 / Total: 1172\n",
      "\n",
      "Separação entre Treino (Branco) e Teste (Preto) dispostos em uma matriz 34 x 35\n"
     ]
    },
    {
     "data": {
      "text/plain": [
       "<matplotlib.image.AxesImage at 0x1a1beda438>"
      ]
     },
     "execution_count": 11,
     "metadata": {},
     "output_type": "execute_result"
    },
    {
     "data": {
      "image/png": "[encoded data removed]",
      "text/plain": [
       "<Figure size 576x396 with 1 Axes>"
      ]
     },
     "metadata": {},
     "output_type": "display_data"
    }
   ],
   "source": [
    "import numpy as np # Biblioteca para Algebra Linear\n",
    "import matplotlib.pyplot as plt # Biblioteca para Plot\n",
    "import seaborn as sns # Biblioteca de Visualização de Dados baseado no Matplotlib\n",
    "plt.style.use('seaborn') # Estilo de gráfico\n",
    "\n",
    "def filter(total, test):\n",
    "    t = np.ones(total, dtype=int)\n",
    "    i = test\n",
    "    while i > 0:\n",
    "        pos = np.random.randint(total)\n",
    "        if t[pos] == 1:\n",
    "            t[pos] = 0\n",
    "            i -= 1\n",
    "    return (t == 1)\n",
    "\n",
    "t = filter(1172, 172)    \n",
    "train = df[t]\n",
    "test  = df[~t]\n",
    "\n",
    "print('Train:', len(train), '/ Test:', len(test), '/ Total:', len(df))\n",
    "\n",
    "d  = int(np.ceil(np.sqrt(len(t))))\n",
    "tm = np.append(t * 1, np.full(len(t) % d + 1, .5))\n",
    "tm = np.reshape(tm, (d - 1, d))\n",
    "\n",
    "print('\\nSeparação entre Treino (Branco) e Teste (Preto) dispostos em uma matriz', d - 1, 'x', d)\n",
    "plt.grid(False)\n",
    "plt.axis('off')\n",
    "plt.imshow(1 - tm)"
   ]
  },
  {
   "cell_type": "markdown",
   "metadata": {},
   "source": [
    "## Questão 1\n",
    "\n",
    "#### 1. Considere as colunas $3$ e $4$ ($\\mathrm{carga}$ e $\\mathrm{VO}_{2max}$) dos dados fornecidos. Seja $p(y \\mid x, \\theta) = \\mathcal{N}(y \\mid w^T \\phi(x), \\sigma^2)$ onde $y$ é o $\\mathrm{VO}_{2max}$, $x = \\mathrm{carga}$  e $\\phi(x) = 1, x,..., x^d$. Use regressão linear e ache os parâmetros do modelo."
   ]
  },
  {
   "cell_type": "code",
   "execution_count": 3,
   "metadata": {},
   "outputs": [],
   "source": [
    "import numpy as np\n",
    "\n",
    "def phi(x, d):\n",
    "    v = []\n",
    "    for i in range(d + 1):\n",
    "        v.append(x ** i)\n",
    "    return np.array(v, dtype=float).T\n",
    "\n",
    "def linear_regression(X, y):\n",
    "    XTX     = X.T.dot(X)\n",
    "    XTX_inv = np.linalg.inv(XTX)\n",
    "    XTy     = X.T.dot(y)\n",
    "    theta   = XTX_inv.dot(XTy)\n",
    "    return theta\n",
    "\n",
    "X_train = np.array(train['Carga Final'])\n",
    "y_train = np.array(train['VO2 medido máximo (mL/kg/min)'])"
   ]
  },
  {
   "cell_type": "markdown",
   "metadata": {},
   "source": [
    "- experimente diferentes valores de $d$."
   ]
  },
  {
   "cell_type": "code",
   "execution_count": 4,
   "metadata": {},
   "outputs": [],
   "source": [
    "Ds = [1, 4, 5, 7, 9]\n",
    "\n",
    "phis = []\n",
    "for d in Ds:\n",
    "    phis.append(phi(X_train, d))\n",
    "    \n",
    "thetas = []\n",
    "for p in phis:\n",
    "    thetas.append(linear_regression(p, y_train))\n",
    "    \n",
    "plot_space = np.linspace(min(X_train), max(X_train))\n",
    "    \n",
    "linspaces = []\n",
    "for d in Ds:\n",
    "    linspaces.append(phi(plot_space, d))\n",
    "\n",
    "models = []\n",
    "for l, t in zip(linspaces, thetas):\n",
    "    models.append(l.dot(t))"
   ]
  },
  {
   "cell_type": "markdown",
   "metadata": {},
   "source": [
    "- plote as funções encontradas, junto com os dados de treinamento."
   ]
  },
  {
   "cell_type": "code",
   "execution_count": 5,
   "metadata": {},
   "outputs": [
    {
     "data": {
      "image/png": "[encoded data removed]",
      "text/plain": [
       "<Figure size 432x288 with 1 Axes>"
      ]
     },
     "metadata": {
      "needs_background": "light"
     },
     "output_type": "display_data"
    }
   ],
   "source": [
    "plt.scatter(X_train, y_train, c='k', alpha=0.2)\n",
    "\n",
    "def randc():\n",
    "    c = ()\n",
    "    for i in range(3):\n",
    "        r = np.random.uniform(0, 1)\n",
    "        c += (r,)\n",
    "    return c\n",
    "\n",
    "for i, m in enumerate(models):\n",
    "    lb = 'M' + str(i + 1)\n",
    "    plt.plot(plot_space, m, c=randc(), label=lb)\n",
    "\n",
    "plt.legend()\n",
    "plt.gca().set_facecolor('w')\n",
    "plt.show()"
   ]
  },
  {
   "cell_type": "code",
   "execution_count": 6,
   "metadata": {},
   "outputs": [
    {
     "name": "stdout",
     "output_type": "stream",
     "text": [
      "Erro do Modelo 1 ( d = 1 ) no Treinamento: 25.102108659084408\n",
      "Erro do Modelo 2 ( d = 4 ) no Treinamento: 24.95753725289964\n",
      "Erro do Modelo 3 ( d = 5 ) no Treinamento: 24.957270132905926\n",
      "Erro do Modelo 4 ( d = 7 ) no Treinamento: 24.953084197638514\n",
      "Erro do Modelo 5 ( d = 9 ) no Treinamento: 24.804460565778086\n"
     ]
    }
   ],
   "source": [
    "def mse(y_pred, y_true):\n",
    "    return np.sum((y_true - y_pred) ** 2) / len(y_true)\n",
    "\n",
    "predictions = []\n",
    "for p, t in zip(phis, thetas):\n",
    "    predictions.append(p.dot(t))\n",
    "\n",
    "for i, y in enumerate(predictions):\n",
    "    print('Erro do Modelo', i + 1, '( d =', Ds[i], ') no Treinamento:', mse(y, y_train))"
   ]
  },
  {
   "cell_type": "markdown",
   "metadata": {},
   "source": [
    "- qual é o $NLL(w)$ encontrado em cada caso? Explique."
   ]
  },
  {
   "cell_type": "markdown",
   "metadata": {},
   "source": [
    "$$ \\text{NLL} ({\\bf \\theta}) = - \\sum_{i=1}^{N} \\log p(y_i \\mid {\\bf x}_i, {\\bf \\theta}) $$"
   ]
  },
  {
   "cell_type": "markdown",
   "metadata": {},
   "source": [
    "- compare os valores previstos pelo modelo escolhido com os valores reais dos dados de teste. Você está satisfeito com o modelo escolhido?"
   ]
  },
  {
   "cell_type": "code",
   "execution_count": 7,
   "metadata": {},
   "outputs": [
    {
     "name": "stdout",
     "output_type": "stream",
     "text": [
      "Erro do Modelo 1 ( d = 1 ) no Teste: 25.64293607025242\n",
      "Erro do Modelo 2 ( d = 4 ) no Teste: 26.15353512155394\n",
      "Erro do Modelo 3 ( d = 5 ) no Teste: 26.16035080419756\n",
      "Erro do Modelo 4 ( d = 7 ) no Teste: 26.126261007127003\n",
      "Erro do Modelo 5 ( d = 9 ) no Teste: 26.561806169491817\n"
     ]
    }
   ],
   "source": [
    "X_test = np.array(test['Carga Final'])\n",
    "y_test = np.array(test['VO2 medido máximo (mL/kg/min)'])\n",
    "\n",
    "phis_test = []\n",
    "for d in Ds:\n",
    "    phis_test.append(phi(X_test, d))\n",
    "    \n",
    "predictions_test = []\n",
    "for p, t in zip(phis_test, thetas):\n",
    "    predictions_test.append(p.dot(t))\n",
    "\n",
    "for i, y in enumerate(predictions_test):\n",
    "    print('Erro do Modelo', i + 1, '( d =', Ds[i], ') no Teste:', mse(y, y_test))"
   ]
  },
  {
   "cell_type": "markdown",
   "metadata": {},
   "source": [
    "Durante o treinamento, os modelo de maior grau polinomial ficaram com o menor erro. Porém, durante o teste, estes tiveram desempenho pior do que o de grau 1, que foi capaz de ter uma melhor generalização.\n",
    "\n",
    "Isso se da pelo overfitting, onde, apesar dos outros modelos se adequarem bem ao conjunto de treinamento, não foi capaz de generalizar o suficiente para o de teste."
   ]
  },
  {
   "cell_type": "markdown",
   "metadata": {},
   "source": [
    "#### 2. Repita o item anterior considerando as colunas 2, 3 e 4 (peso, carga e VO$_{2max}$)."
   ]
  },
  {
   "cell_type": "code",
   "execution_count": 8,
   "metadata": {},
   "outputs": [
    {
     "name": "stdout",
     "output_type": "stream",
     "text": [
      "Erro do Modelo que utiliza Peso e Cargo no Teste: 8.858250679286769\n"
     ]
    }
   ],
   "source": [
    "X_train_2 = np.array(train[['Peso (kg)', 'Carga Final']])\n",
    "X_test_2  = np.array(test[['Peso (kg)', 'Carga Final']])\n",
    "\n",
    "from sklearn.linear_model import LinearRegression\n",
    "from sklearn.preprocessing import PolynomialFeatures\n",
    "\n",
    "poly_reg = PolynomialFeatures(degree=2)\n",
    "x_poly   = poly_reg.fit_transform(X_train_2)\n",
    "\n",
    "model = LinearRegression()\n",
    "model.fit(x_poly, y_train)\n",
    "\n",
    "pred = model.predict(poly_reg.fit_transform(X_test_2))\n",
    "\n",
    "print('Erro do Modelo que utiliza Peso e Cargo no Teste:', mse(pred, y_test))"
   ]
  },
  {
   "cell_type": "markdown",
   "metadata": {},
   "source": [
    "#### 3. Repita o item anterior considerando as colunas 1, 2, 3 e 4 (idade, peso, carga e VO$_{2max}$)."
   ]
  },
  {
   "cell_type": "code",
   "execution_count": 9,
   "metadata": {},
   "outputs": [
    {
     "name": "stdout",
     "output_type": "stream",
     "text": [
      "Erro do Modelo que utiliza Idade, Peso e Carga no Teste: 48.930207049329596\n"
     ]
    }
   ],
   "source": [
    "X_train_3 = np.array(train[['Idade (anos)', 'Peso (kg)', 'Carga Final']])\n",
    "X_test_3  = np.array(test[['Idade (anos)', 'Peso (kg)', 'Carga Final']])\n",
    "\n",
    "poly_reg = PolynomialFeatures(degree=7)\n",
    "x_poly   = poly_reg.fit_transform(X_train_3)\n",
    "\n",
    "model.fit(x_poly, y_train)\n",
    "\n",
    "pred = model.predict(poly_reg.fit_transform(X_test_3))\n",
    "\n",
    "print('Erro do Modelo que utiliza Idade, Peso e Carga no Teste:', mse(pred, y_test))"
   ]
  },
  {
   "cell_type": "markdown",
   "metadata": {},
   "source": [
    "- Você acha que alguma das variáveis é menos importante para se estimar o VO$_{2max}$? Ou todas são importantes? Explique."
   ]
  },
  {
   "cell_type": "markdown",
   "metadata": {},
   "source": [
    "De acordo com os resultados apresentados pelos modelos, cujo utilizam diferentes *features*, acrescentar a variável 'Peso (Kg)' teve um significativo aumento de desempenho na predição. Porém, o mesmo não ocorre ao adicionar a variável 'Idade (anos)'.\n",
    "\n",
    "A partir disto, podemos concluir que o valor $VO_{2max}$ não é fundamentalmente determinado pela idade, mas possui razoável influência quanto ao peso."
   ]
  },
  {
   "cell_type": "markdown",
   "metadata": {},
   "source": [
    "#### 4. O VO$_{2max}$ pode ser estimado pela seguinte equação de acordo com o _American College of Sports Medicine_: VO$_{2max} \\approx (W \\times 11.4 + 260 + peso \\times 3, 5) \\, / \\, peso$, onde $W$ é a carga máxima em watts, o peso corporal é em kg e a constante de 260 mL/min indica o volume de oxigênio correspondente ao gasto energético necessário para mover os pedais do teste de esforço sem qualquer resistência adicionada.\n",
    "\n",
    "- Compare essa equação com a do modelo que você obteve considerando carga e peso."
   ]
  },
  {
   "cell_type": "code",
   "execution_count": 10,
   "metadata": {},
   "outputs": [
    {
     "name": "stdout",
     "output_type": "stream",
     "text": [
      "Erro do Modelo baseado na equação do ACSM para os dados de Teste: 9.21111276846597\n"
     ]
    }
   ],
   "source": [
    "def VO_2max(W, peso):\n",
    "    return (W * 11.4 + 260 + peso * 3.5) / peso\n",
    "\n",
    "pred_ACSM = []\n",
    "for x in X_test_2:\n",
    "    pred_ACSM.append(VO_2max(x[1], x[0]))\n",
    "    \n",
    "print('Erro do Modelo baseado na equação do ACSM para os dados de Teste:', mse(pred_ACSM, y_test))"
   ]
  },
  {
   "cell_type": "markdown",
   "metadata": {},
   "source": [
    "- Qual a vantagem que você obteve (se existe alguma) com a equação considerando a idade? Exemplifique."
   ]
  },
  {
   "cell_type": "markdown",
   "metadata": {},
   "source": [
    "O erro do Modelo que considera **Idade** é muito maior à equação utilizada pelo ACSM. Porém, o Modelo que utiliza apenas **Peso** e **Carga** apresentou predição similar à equação."
   ]
  }
 ],
 "metadata": {
  "kernelspec": {
   "display_name": "Python 3",
   "language": "python",
   "name": "python3"
  },
  "language_info": {
   "codemirror_mode": {
    "name": "ipython",
    "version": 3
   },
   "file_extension": ".py",
   "mimetype": "text/x-python",
   "name": "python",
   "nbconvert_exporter": "python",
   "pygments_lexer": "ipython3",
   "version": "3.7.0"
  }
 },
 "nbformat": 4,
 "nbformat_minor": 2
}

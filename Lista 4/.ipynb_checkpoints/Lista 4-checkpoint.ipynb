{
 "cells": [
  {
   "cell_type": "markdown",
   "metadata": {},
   "source": [
    "# Machine Learning 2018.3\n",
    "> - **Lista 4**\n",
    "- **Lucas Lopes Felipe** - *PPGI*\n",
    "- **Turma**: *CPS-863 / COS-623 / MAB-608*\n",
    "- **Professores**: Edmundo, Daniel S. Menascé e Rosa Leão"
   ]
  },
  {
   "cell_type": "markdown",
   "metadata": {},
   "source": [
    "## Base de Dados\n",
    "\n",
    "> As características dos dados fornecidos são: **idade do paciente** (*anos*), **peso** (*kg*), **carga final** (*watts*) e **VO$_2$ máximo** (*mL/Kg/min*). Fornecemos um ($1$) arquivo com dados de $1.172$ pacientes coletados pelo Professor e sua equipe: *Dados-medicos.csv*."
   ]
  },
  {
   "cell_type": "code",
   "execution_count": 9,
   "metadata": {},
   "outputs": [
    {
     "data": {
      "text/html": [
       "<div>\n",
       "<style scoped>\n",
       "    .dataframe tbody tr th:only-of-type {\n",
       "        vertical-align: middle;\n",
       "    }\n",
       "\n",
       "    .dataframe tbody tr th {\n",
       "        vertical-align: top;\n",
       "    }\n",
       "\n",
       "    .dataframe thead th {\n",
       "        text-align: right;\n",
       "    }\n",
       "</style>\n",
       "<table border=\"1\" class=\"dataframe\">\n",
       "  <thead>\n",
       "    <tr style=\"text-align: right;\">\n",
       "      <th></th>\n",
       "      <th>Idade</th>\n",
       "      <th>Peso</th>\n",
       "      <th>Carga</th>\n",
       "      <th>VO2</th>\n",
       "    </tr>\n",
       "  </thead>\n",
       "  <tbody>\n",
       "    <tr>\n",
       "      <th>0</th>\n",
       "      <td>49</td>\n",
       "      <td>79.1</td>\n",
       "      <td>250.0</td>\n",
       "      <td>49.051833</td>\n",
       "    </tr>\n",
       "    <tr>\n",
       "      <th>1</th>\n",
       "      <td>30</td>\n",
       "      <td>52.4</td>\n",
       "      <td>177.0</td>\n",
       "      <td>41.603053</td>\n",
       "    </tr>\n",
       "    <tr>\n",
       "      <th>2</th>\n",
       "      <td>56</td>\n",
       "      <td>65.8</td>\n",
       "      <td>140.0</td>\n",
       "      <td>32.674772</td>\n",
       "    </tr>\n",
       "    <tr>\n",
       "      <th>3</th>\n",
       "      <td>29</td>\n",
       "      <td>78.0</td>\n",
       "      <td>400.0</td>\n",
       "      <td>59.102564</td>\n",
       "    </tr>\n",
       "    <tr>\n",
       "      <th>4</th>\n",
       "      <td>49</td>\n",
       "      <td>69.2</td>\n",
       "      <td>242.0</td>\n",
       "      <td>48.410405</td>\n",
       "    </tr>\n",
       "  </tbody>\n",
       "</table>\n",
       "</div>"
      ],
      "text/plain": [
       "   Idade  Peso  Carga        VO2\n",
       "0     49  79.1  250.0  49.051833\n",
       "1     30  52.4  177.0  41.603053\n",
       "2     56  65.8  140.0  32.674772\n",
       "3     29  78.0  400.0  59.102564\n",
       "4     49  69.2  242.0  48.410405"
      ]
     },
     "execution_count": 9,
     "metadata": {},
     "output_type": "execute_result"
    }
   ],
   "source": [
    "import pandas as pd\n",
    "df = pd.read_csv('./Dados-medicos.txt', sep=\" \")\n",
    "df.columns = ['Idade', 'Peso', 'Carga', 'VO2']\n",
    "df.head()"
   ]
  },
  {
   "cell_type": "markdown",
   "metadata": {},
   "source": [
    "## Questão 5\n",
    "> O objetivo desta questão é construir um modelo não supervisionado, usando uma mistura de Gaussianas, e estudar o algoritmo EM (Expectation Maximization).\n",
    "\n",
    ">Suponha que a variável idade **não** é observada, diferentemente do problema anterior, e você quer verificar se os agrupamentos encontrados formam faixas etárias. Neste caso, suponha que o número de classes seja igual ao número de faixas etárias, e você **não sabe** nada sobre o número de faixas. Note que você **não pode usar os dados de idade fornecidos**. Portanto, é parte do trabalho a escolha do número de classes a ser usado. (Sugestão: experimente com 2, 3, etc.)"
   ]
  },
  {
   "cell_type": "code",
   "execution_count": 11,
   "metadata": {},
   "outputs": [
    {
     "data": {
      "text/html": [
       "<div>\n",
       "<style scoped>\n",
       "    .dataframe tbody tr th:only-of-type {\n",
       "        vertical-align: middle;\n",
       "    }\n",
       "\n",
       "    .dataframe tbody tr th {\n",
       "        vertical-align: top;\n",
       "    }\n",
       "\n",
       "    .dataframe thead th {\n",
       "        text-align: right;\n",
       "    }\n",
       "</style>\n",
       "<table border=\"1\" class=\"dataframe\">\n",
       "  <thead>\n",
       "    <tr style=\"text-align: right;\">\n",
       "      <th></th>\n",
       "      <th>Peso</th>\n",
       "      <th>Carga</th>\n",
       "      <th>VO2</th>\n",
       "    </tr>\n",
       "  </thead>\n",
       "  <tbody>\n",
       "    <tr>\n",
       "      <th>0</th>\n",
       "      <td>79.1</td>\n",
       "      <td>250.0</td>\n",
       "      <td>49.051833</td>\n",
       "    </tr>\n",
       "    <tr>\n",
       "      <th>1</th>\n",
       "      <td>52.4</td>\n",
       "      <td>177.0</td>\n",
       "      <td>41.603053</td>\n",
       "    </tr>\n",
       "    <tr>\n",
       "      <th>2</th>\n",
       "      <td>65.8</td>\n",
       "      <td>140.0</td>\n",
       "      <td>32.674772</td>\n",
       "    </tr>\n",
       "    <tr>\n",
       "      <th>3</th>\n",
       "      <td>78.0</td>\n",
       "      <td>400.0</td>\n",
       "      <td>59.102564</td>\n",
       "    </tr>\n",
       "    <tr>\n",
       "      <th>4</th>\n",
       "      <td>69.2</td>\n",
       "      <td>242.0</td>\n",
       "      <td>48.410405</td>\n",
       "    </tr>\n",
       "  </tbody>\n",
       "</table>\n",
       "</div>"
      ],
      "text/plain": [
       "   Peso  Carga        VO2\n",
       "0  79.1  250.0  49.051833\n",
       "1  52.4  177.0  41.603053\n",
       "2  65.8  140.0  32.674772\n",
       "3  78.0  400.0  59.102564\n",
       "4  69.2  242.0  48.410405"
      ]
     },
     "execution_count": 11,
     "metadata": {},
     "output_type": "execute_result"
    }
   ],
   "source": [
    "train = df.drop(columns='Idade')\n",
    "train.head()"
   ]
  },
  {
   "cell_type": "code",
   "execution_count": 15,
   "metadata": {},
   "outputs": [
    {
     "data": {
      "text/plain": [
       "(array([ 37., 171., 269., 287., 207., 131.,  42.,  23.,   3.,   2.]),\n",
       " array([ 5.84684685, 12.5954955 , 19.34414414, 26.09279279, 32.84144144,\n",
       "        39.59009009, 46.33873874, 53.08738739, 59.83603604, 66.58468468,\n",
       "        73.33333333]),\n",
       " <a list of 10 Patch objects>)"
      ]
     },
     "execution_count": 15,
     "metadata": {},
     "output_type": "execute_result"
    },
    {
     "data": {
      "image/png": "[encoded data removed]",
      "text/plain": [
       "<Figure size 432x288 with 1 Axes>"
      ]
     },
     "metadata": {
      "needs_background": "light"
     },
     "output_type": "display_data"
    }
   ],
   "source": [
    "import matplotlib.pyplot as plt # Biblioteca para Plot\n",
    "import seaborn as sns # Biblioteca de Visualização de Dados baseado no Matplotlib\n",
    "plt.style.use('seaborn') # Estilo de gráfico\n",
    "%matplotlib inline\n",
    "\n",
    "plt.hist(train['Peso'])\n",
    "plt.hist(train['Carga'])\n",
    "plt.hist(train['VO2'])\n",
    "#plt.legend"
   ]
  },
  {
   "cell_type": "markdown",
   "metadata": {},
   "source": [
    "#### 1. Explique, em linhas gerais, os passos feitos para encontrar a solução do modelo incluindo as suas escolhas para usar o algoritmo EM."
   ]
  },
  {
   "cell_type": "code",
   "execution_count": 18,
   "metadata": {},
   "outputs": [
    {
     "data": {
      "text/plain": [
       "[<matplotlib.lines.Line2D at 0x1a229b99b0>]"
      ]
     },
     "execution_count": 18,
     "metadata": {},
     "output_type": "execute_result"
    },
    {
     "data": {
      "image/png": "[encoded data removed]",
      "text/plain": [
       "<Figure size 432x288 with 1 Axes>"
      ]
     },
     "metadata": {
      "needs_background": "light"
     },
     "output_type": "display_data"
    }
   ],
   "source": [
    "from scipy import stats\n",
    "x = np.linspace(start=-10, stop=10, num=1000)\n",
    "y = stats.norm.pdf(x, loc=0, scale=2)\n",
    "plt.plot(x,y)"
   ]
  },
  {
   "cell_type": "code",
   "execution_count": null,
   "metadata": {},
   "outputs": [],
   "source": [
    "num_classes = 2\n",
    "import numpy as np # Biblioteca para Algebra Linear"
   ]
  },
  {
   "cell_type": "code",
   "execution_count": null,
   "metadata": {},
   "outputs": [],
   "source": []
  },
  {
   "cell_type": "code",
   "execution_count": null,
   "metadata": {},
   "outputs": [],
   "source": []
  },
  {
   "cell_type": "code",
   "execution_count": null,
   "metadata": {},
   "outputs": [],
   "source": []
  },
  {
   "cell_type": "markdown",
   "metadata": {},
   "source": [
    "#### 2. A partir do modelo obtido, explique como o algoritmo pode agrupar as amostras. É parte da solução explicar como você vai classificar cada amostra $x_i$ a partir do modelo obtido. Os agrupamentos obtidos fazem algum sentido?"
   ]
  },
  {
   "cell_type": "code",
   "execution_count": null,
   "metadata": {},
   "outputs": [],
   "source": []
  },
  {
   "cell_type": "markdown",
   "metadata": {},
   "source": [
    "## Questão 6\n",
    "O objetivo desta questãoo é encontrar um bom modelo para o $VO_{2max}$, usando todos os dados fornecidos. Neste caso, $x$ é multidimensional (idade, peso e carga e $VO_{2max}$). Nesta questão você é livre para escolher um modelo, dentre os estudados no curso até o momento. Objetivo:\n",
    "- Dado uma determinada idade, peso e carga, qual seria a distribuição de probabilidade do $VO_{2max}$ que o modelo fornece.\n",
    "\n",
    "#### 1. Justifique, em poucas palavras a escolha do modelo, e indique os parêmetros do mesmo."
   ]
  },
  {
   "cell_type": "code",
   "execution_count": null,
   "metadata": {},
   "outputs": [],
   "source": []
  },
  {
   "cell_type": "markdown",
   "metadata": {},
   "source": [
    "#### 2. Tente interpretar os resultados encontrados."
   ]
  },
  {
   "cell_type": "code",
   "execution_count": null,
   "metadata": {},
   "outputs": [],
   "source": []
  },
  {
   "cell_type": "markdown",
   "metadata": {},
   "source": [
    "#### 3. Escolha duas faixas etárias, por exemplo entre $[30 - 40)$ e $[50 - 60)$ anos. Escolha 2 valores de $VO_{2max}$ possíveis para cada faixa. Você poderia calcular a probabilidade dos indivíduos em cada uma dessas faixas de idade. possuir o valor de $VO_{2max}$ escolhido, a partir do seu modelo? Justifique."
   ]
  },
  {
   "cell_type": "code",
   "execution_count": null,
   "metadata": {},
   "outputs": [],
   "source": []
  },
  {
   "cell_type": "markdown",
   "metadata": {},
   "source": [
    "#### 4. Suponha um indivíduo com cujo $VO_{2max} = 32, 6 mL/kg.min$, carga de $181$ e cujo peso seja de $81,5 Kg$. A partir do modelo, obtenha as probabilidade do indivíduo ter entre $[40 - 50)$ anos, $(50 - 60)$ anos e $[60 - 70]$ anos."
   ]
  },
  {
   "cell_type": "code",
   "execution_count": null,
   "metadata": {},
   "outputs": [],
   "source": []
  },
  {
   "cell_type": "markdown",
   "metadata": {},
   "source": [
    "## Questão 7\n",
    "> O objetivo desta questão é verificar se é possível encontrar *clusters* de pontos com alguma interpretação que faça sentido. Use os dados de idade, carga e $VO_{2max}$ de todos os pacientes, e K-means para achar os *clusters*.\n",
    "\n",
    "#### 1. Para $K = 3$: para cada um dos *clusters*, calcule a fração de pontos do cluster que estão associados a cada uma das seguintes faixas etárias: $[18 - 30)$, $[30 - 50)$, $[50 - 60)$, $[60 - 70)$, $[70 - 80)$, $[80 - 100)$. Por exemplo, para o caso trivial $K = 1$, $68/1172 = 0.0580$ dos pontos deste *cluster* único são associados a faixa $[18 - 30)$ e $445/1172 = 0.3797$ dos pontos estão associados à faixa $[30 - 50)$."
   ]
  },
  {
   "cell_type": "code",
   "execution_count": null,
   "metadata": {},
   "outputs": [],
   "source": []
  },
  {
   "cell_type": "markdown",
   "metadata": {},
   "source": [
    "#### 2. Repita para Para $K = 4$."
   ]
  },
  {
   "cell_type": "code",
   "execution_count": null,
   "metadata": {},
   "outputs": [],
   "source": []
  },
  {
   "cell_type": "markdown",
   "metadata": {},
   "source": [
    "#### 3. Tente perceber alguma interpretação para os *clusters* encontrados, se é que existe alguma."
   ]
  },
  {
   "cell_type": "code",
   "execution_count": null,
   "metadata": {},
   "outputs": [],
   "source": []
  },
  {
   "cell_type": "markdown",
   "metadata": {},
   "source": [
    "#### 4. Comente os resultados."
   ]
  },
  {
   "cell_type": "code",
   "execution_count": null,
   "metadata": {},
   "outputs": [],
   "source": []
  }
 ],
 "metadata": {
  "kernelspec": {
   "display_name": "Python 3",
   "language": "python",
   "name": "python3"
  },
  "language_info": {
   "codemirror_mode": {
    "name": "ipython",
    "version": 3
   },
   "file_extension": ".py",
   "mimetype": "text/x-python",
   "name": "python",
   "nbconvert_exporter": "python",
   "pygments_lexer": "ipython3",
   "version": "3.7.0"
  }
 },
 "nbformat": 4,
 "nbformat_minor": 2
}
